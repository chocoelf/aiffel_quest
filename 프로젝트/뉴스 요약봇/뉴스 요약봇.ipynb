{
 "cells": [
  {
   "cell_type": "code",
   "execution_count": 167,
   "id": "e270d631",
   "metadata": {},
   "outputs": [
    {
     "name": "stderr",
     "output_type": "stream",
     "text": [
      "[nltk_data] Downloading package stopwords to /aiffel/nltk_data...\n",
      "[nltk_data]   Package stopwords is already up-to-date!\n"
     ]
    }
   ],
   "source": [
    "import nltk\n",
    "nltk.download('stopwords')\n",
    "\n",
    "from tensorflow.keras import layers\n",
    "import numpy as np\n",
    "import pandas as pd\n",
    "import os\n",
    "import re\n",
    "import matplotlib.pyplot as plt\n",
    "from nltk.corpus import stopwords\n",
    "from bs4 import BeautifulSoup \n",
    "from tensorflow.keras.preprocessing.text import Tokenizer \n",
    "from tensorflow.keras.preprocessing.sequence import pad_sequences\n",
    "import urllib.request\n",
    "import warnings\n",
    "warnings.filterwarnings(\"ignore\", category=UserWarning, module='bs4')\n",
    "\n"
   ]
  },
  {
   "cell_type": "code",
   "execution_count": 2,
   "id": "17f70a8b",
   "metadata": {},
   "outputs": [],
   "source": [
    "import urllib.request\n",
    "urllib.request.urlretrieve(\"https://raw.githubusercontent.com/sunnysai12345/News_Summary/master/news_summary_more.csv\", filename=\"news_summary_more.csv\")\n",
    "data = pd.read_csv('news_summary_more.csv', encoding='iso-8859-1')"
   ]
  },
  {
   "cell_type": "code",
   "execution_count": 3,
   "id": "cc0d38f9",
   "metadata": {},
   "outputs": [
    {
     "data": {
      "text/html": [
       "<div>\n",
       "<style scoped>\n",
       "    .dataframe tbody tr th:only-of-type {\n",
       "        vertical-align: middle;\n",
       "    }\n",
       "\n",
       "    .dataframe tbody tr th {\n",
       "        vertical-align: top;\n",
       "    }\n",
       "\n",
       "    .dataframe thead th {\n",
       "        text-align: right;\n",
       "    }\n",
       "</style>\n",
       "<table border=\"1\" class=\"dataframe\">\n",
       "  <thead>\n",
       "    <tr style=\"text-align: right;\">\n",
       "      <th></th>\n",
       "      <th>headlines</th>\n",
       "      <th>text</th>\n",
       "    </tr>\n",
       "  </thead>\n",
       "  <tbody>\n",
       "    <tr>\n",
       "      <th>2569</th>\n",
       "      <td>Interim CBI chief Rao cancels all transfer ord...</td>\n",
       "      <td>Interim CBI director M Nageswara Rao on Friday...</td>\n",
       "    </tr>\n",
       "    <tr>\n",
       "      <th>35602</th>\n",
       "      <td>What are the biggest cryptocurrency thefts in ...</td>\n",
       "      <td>Some of the biggest cryptocurrency theft in la...</td>\n",
       "    </tr>\n",
       "    <tr>\n",
       "      <th>4899</th>\n",
       "      <td>PM Modi condoles loss of lives due to tsunami ...</td>\n",
       "      <td>PM Narendra Modi on Sunday took to Twitter to ...</td>\n",
       "    </tr>\n",
       "    <tr>\n",
       "      <th>44399</th>\n",
       "      <td>Lionel Messi becomes father for 3rd time, name...</td>\n",
       "      <td>Five-time Ballon d'Or winner Barcelona forward...</td>\n",
       "    </tr>\n",
       "    <tr>\n",
       "      <th>83075</th>\n",
       "      <td>Iran to take reciprocal action after US travel...</td>\n",
       "      <td>Iran has said that it would take \"reciprocal a...</td>\n",
       "    </tr>\n",
       "    <tr>\n",
       "      <th>27476</th>\n",
       "      <td>Govt approves hike in Minimum Support Price fo...</td>\n",
       "      <td>The Centre on Wednesday approved the raise in ...</td>\n",
       "    </tr>\n",
       "    <tr>\n",
       "      <th>14515</th>\n",
       "      <td>Was controlling crowd like Jackson: Supriyo on...</td>\n",
       "      <td>Justifying his 'will break your leg' threat to...</td>\n",
       "    </tr>\n",
       "    <tr>\n",
       "      <th>34603</th>\n",
       "      <td>Apple to replace MacBook Pro batteries over fa...</td>\n",
       "      <td>Apple has globally offered to replace batterie...</td>\n",
       "    </tr>\n",
       "    <tr>\n",
       "      <th>36686</th>\n",
       "      <td>Muslims weave garlands for Hindu temples in J'...</td>\n",
       "      <td>Around 40 Muslim families in Vikhrajpur villag...</td>\n",
       "    </tr>\n",
       "    <tr>\n",
       "      <th>29254</th>\n",
       "      <td>I'm at mercy of Congress, not 6.5 crore people...</td>\n",
       "      <td>Karnataka CM HD Kumaraswamy has said he's at t...</td>\n",
       "    </tr>\n",
       "  </tbody>\n",
       "</table>\n",
       "</div>"
      ],
      "text/plain": [
       "                                               headlines  \\\n",
       "2569   Interim CBI chief Rao cancels all transfer ord...   \n",
       "35602  What are the biggest cryptocurrency thefts in ...   \n",
       "4899   PM Modi condoles loss of lives due to tsunami ...   \n",
       "44399  Lionel Messi becomes father for 3rd time, name...   \n",
       "83075  Iran to take reciprocal action after US travel...   \n",
       "27476  Govt approves hike in Minimum Support Price fo...   \n",
       "14515  Was controlling crowd like Jackson: Supriyo on...   \n",
       "34603  Apple to replace MacBook Pro batteries over fa...   \n",
       "36686  Muslims weave garlands for Hindu temples in J'...   \n",
       "29254  I'm at mercy of Congress, not 6.5 crore people...   \n",
       "\n",
       "                                                    text  \n",
       "2569   Interim CBI director M Nageswara Rao on Friday...  \n",
       "35602  Some of the biggest cryptocurrency theft in la...  \n",
       "4899   PM Narendra Modi on Sunday took to Twitter to ...  \n",
       "44399  Five-time Ballon d'Or winner Barcelona forward...  \n",
       "83075  Iran has said that it would take \"reciprocal a...  \n",
       "27476  The Centre on Wednesday approved the raise in ...  \n",
       "14515  Justifying his 'will break your leg' threat to...  \n",
       "34603  Apple has globally offered to replace batterie...  \n",
       "36686  Around 40 Muslim families in Vikhrajpur villag...  \n",
       "29254  Karnataka CM HD Kumaraswamy has said he's at t...  "
      ]
     },
     "execution_count": 3,
     "metadata": {},
     "output_type": "execute_result"
    }
   ],
   "source": [
    "data.sample(10)"
   ]
  },
  {
   "cell_type": "code",
   "execution_count": 5,
   "id": "cb6a778e",
   "metadata": {},
   "outputs": [
    {
     "name": "stdout",
     "output_type": "stream",
     "text": [
      "Text 열에서 중복을 배제한 유일한 샘플의 수 : 98360\n",
      "Summary 열에서 중복을 배제한 유일한 샘플의 수 : 98280\n"
     ]
    }
   ],
   "source": [
    "print('Text 열에서 중복을 배제한 유일한 샘플의 수 :', data['text'].nunique())\n",
    "print('Summary 열에서 중복을 배제한 유일한 샘플의 수 :', data['headlines'].nunique())"
   ]
  },
  {
   "cell_type": "code",
   "execution_count": 6,
   "id": "be7978aa",
   "metadata": {},
   "outputs": [
    {
     "name": "stdout",
     "output_type": "stream",
     "text": [
      "전체 샘플수 : 98360\n"
     ]
    }
   ],
   "source": [
    "# inplace=True 를 설정하면 DataFrame 타입 값을 return 하지 않고 data 내부를 직접적으로 바꿉니다\n",
    "data.drop_duplicates(subset = ['text'], inplace=True)\n",
    "print('전체 샘플수 :', (len(data)))"
   ]
  },
  {
   "cell_type": "code",
   "execution_count": 7,
   "id": "a0e2d73c",
   "metadata": {
    "scrolled": true
   },
   "outputs": [
    {
     "name": "stdout",
     "output_type": "stream",
     "text": [
      "headlines    0\n",
      "text         0\n",
      "dtype: int64\n"
     ]
    }
   ],
   "source": [
    "print(data.isnull().sum())"
   ]
  },
  {
   "cell_type": "code",
   "execution_count": 8,
   "id": "f80f92d1",
   "metadata": {},
   "outputs": [
    {
     "name": "stdout",
     "output_type": "stream",
     "text": [
      "정규화 사전의 수:  120\n"
     ]
    }
   ],
   "source": [
    "contractions = {\"ain't\": \"is not\", \"aren't\": \"are not\",\"can't\": \"cannot\", \"'cause\": \"because\", \"could've\": \"could have\", \"couldn't\": \"could not\",\n",
    "                           \"didn't\": \"did not\",  \"doesn't\": \"does not\", \"don't\": \"do not\", \"hadn't\": \"had not\", \"hasn't\": \"has not\", \"haven't\": \"have not\",\n",
    "                           \"he'd\": \"he would\",\"he'll\": \"he will\", \"he's\": \"he is\", \"how'd\": \"how did\", \"how'd'y\": \"how do you\", \"how'll\": \"how will\", \"how's\": \"how is\",\n",
    "                           \"I'd\": \"I would\", \"I'd've\": \"I would have\", \"I'll\": \"I will\", \"I'll've\": \"I will have\",\"I'm\": \"I am\", \"I've\": \"I have\", \"i'd\": \"i would\",\n",
    "                           \"i'd've\": \"i would have\", \"i'll\": \"i will\",  \"i'll've\": \"i will have\",\"i'm\": \"i am\", \"i've\": \"i have\", \"isn't\": \"is not\", \"it'd\": \"it would\",\n",
    "                           \"it'd've\": \"it would have\", \"it'll\": \"it will\", \"it'll've\": \"it will have\",\"it's\": \"it is\", \"let's\": \"let us\", \"ma'am\": \"madam\",\n",
    "                           \"mayn't\": \"may not\", \"might've\": \"might have\",\"mightn't\": \"might not\",\"mightn't've\": \"might not have\", \"must've\": \"must have\",\n",
    "                           \"mustn't\": \"must not\", \"mustn't've\": \"must not have\", \"needn't\": \"need not\", \"needn't've\": \"need not have\",\"o'clock\": \"of the clock\",\n",
    "                           \"oughtn't\": \"ought not\", \"oughtn't've\": \"ought not have\", \"shan't\": \"shall not\", \"sha'n't\": \"shall not\", \"shan't've\": \"shall not have\",\n",
    "                           \"she'd\": \"she would\", \"she'd've\": \"she would have\", \"she'll\": \"she will\", \"she'll've\": \"she will have\", \"she's\": \"she is\",\n",
    "                           \"should've\": \"should have\", \"shouldn't\": \"should not\", \"shouldn't've\": \"should not have\", \"so've\": \"so have\",\"so's\": \"so as\",\n",
    "                           \"this's\": \"this is\",\"that'd\": \"that would\", \"that'd've\": \"that would have\", \"that's\": \"that is\", \"there'd\": \"there would\",\n",
    "                           \"there'd've\": \"there would have\", \"there's\": \"there is\", \"here's\": \"here is\",\"they'd\": \"they would\", \"they'd've\": \"they would have\",\n",
    "                           \"they'll\": \"they will\", \"they'll've\": \"they will have\", \"they're\": \"they are\", \"they've\": \"they have\", \"to've\": \"to have\",\n",
    "                           \"wasn't\": \"was not\", \"we'd\": \"we would\", \"we'd've\": \"we would have\", \"we'll\": \"we will\", \"we'll've\": \"we will have\", \"we're\": \"we are\",\n",
    "                           \"we've\": \"we have\", \"weren't\": \"were not\", \"what'll\": \"what will\", \"what'll've\": \"what will have\", \"what're\": \"what are\",\n",
    "                           \"what's\": \"what is\", \"what've\": \"what have\", \"when's\": \"when is\", \"when've\": \"when have\", \"where'd\": \"where did\", \"where's\": \"where is\",\n",
    "                           \"where've\": \"where have\", \"who'll\": \"who will\", \"who'll've\": \"who will have\", \"who's\": \"who is\", \"who've\": \"who have\",\n",
    "                           \"why's\": \"why is\", \"why've\": \"why have\", \"will've\": \"will have\", \"won't\": \"will not\", \"won't've\": \"will not have\",\n",
    "                           \"would've\": \"would have\", \"wouldn't\": \"would not\", \"wouldn't've\": \"would not have\", \"y'all\": \"you all\",\n",
    "                           \"y'all'd\": \"you all would\",\"y'all'd've\": \"you all would have\",\"y'all're\": \"you all are\",\"y'all've\": \"you all have\",\n",
    "                           \"you'd\": \"you would\", \"you'd've\": \"you would have\", \"you'll\": \"you will\", \"you'll've\": \"you will have\",\n",
    "                           \"you're\": \"you are\", \"you've\": \"you have\"}\n",
    "\n",
    "print(\"정규화 사전의 수: \", len(contractions))"
   ]
  },
  {
   "cell_type": "code",
   "execution_count": 16,
   "id": "6f1fe72e",
   "metadata": {
    "scrolled": false
   },
   "outputs": [
    {
     "name": "stdout",
     "output_type": "stream",
     "text": [
      "불용어 개수 : 179\n",
      "['i', 'me', 'my', 'myself', 'we', 'our', 'ours', 'ourselves', 'you', \"you're\", \"you've\", \"you'll\", \"you'd\", 'your', 'yours', 'yourself', 'yourselves', 'he', 'him', 'his', 'himself', 'she', \"she's\", 'her', 'hers', 'herself', 'it', \"it's\", 'its', 'itself', 'they', 'them', 'their', 'theirs', 'themselves', 'what', 'which', 'who', 'whom', 'this', 'that', \"that'll\", 'these', 'those', 'am', 'is', 'are', 'was', 'were', 'be', 'been', 'being', 'have', 'has', 'had', 'having', 'do', 'does', 'did', 'doing', 'a', 'an', 'the', 'and', 'but', 'if', 'or', 'because', 'as', 'until', 'while', 'of', 'at', 'by', 'for', 'with', 'about', 'against', 'between', 'into', 'through', 'during', 'before', 'after', 'above', 'below', 'to', 'from', 'up', 'down', 'in', 'out', 'on', 'off', 'over', 'under', 'again', 'further', 'then', 'once', 'here', 'there', 'when', 'where', 'why', 'how', 'all', 'any', 'both', 'each', 'few', 'more', 'most', 'other', 'some', 'such', 'no', 'nor', 'not', 'only', 'own', 'same', 'so', 'than', 'too', 'very', 's', 't', 'can', 'will', 'just', 'don', \"don't\", 'should', \"should've\", 'now', 'd', 'll', 'm', 'o', 're', 've', 'y', 'ain', 'aren', \"aren't\", 'couldn', \"couldn't\", 'didn', \"didn't\", 'doesn', \"doesn't\", 'hadn', \"hadn't\", 'hasn', \"hasn't\", 'haven', \"haven't\", 'isn', \"isn't\", 'ma', 'mightn', \"mightn't\", 'mustn', \"mustn't\", 'needn', \"needn't\", 'shan', \"shan't\", 'shouldn', \"shouldn't\", 'wasn', \"wasn't\", 'weren', \"weren't\", 'won', \"won't\", 'wouldn', \"wouldn't\"]\n"
     ]
    }
   ],
   "source": [
    "print('불용어 개수 :', len(stopwords.words('english') ))\n",
    "print(stopwords.words('english'))"
   ]
  },
  {
   "cell_type": "code",
   "execution_count": 17,
   "id": "12773af5",
   "metadata": {},
   "outputs": [
    {
     "name": "stdout",
     "output_type": "stream",
     "text": [
      "=3\n"
     ]
    }
   ],
   "source": [
    "# 데이터 전처리 함수\n",
    "def preprocess_sentence(sentence, remove_stopwords=True):\n",
    "    sentence = sentence.lower() # 텍스트 소문자화\n",
    "    sentence = BeautifulSoup(sentence, \"lxml\").text # <br />, <a href = ...> 등의 html 태그 제거\n",
    "    sentence = re.sub(r'\\([^)]*\\)', '', sentence) # 괄호로 닫힌 문자열 (...) 제거 Ex) my husband (and myself!) for => my husband for\n",
    "    sentence = re.sub('\"','', sentence) # 쌍따옴표 \" 제거\n",
    "    sentence = ' '.join([contractions[t] if t in contractions else t for t in sentence.split(\" \")]) # 약어 정규화\n",
    "    sentence = re.sub(r\"'s\\b\",\"\", sentence) # 소유격 제거. Ex) roland's -> roland\n",
    "    sentence = re.sub(\"[^a-zA-Z]\", \" \", sentence) # 영어 외 문자(숫자, 특수문자 등) 공백으로 변환\n",
    "    sentence = re.sub('[m]{2,}', 'mm', sentence) # m이 3개 이상이면 2개로 변경. Ex) ummmmmmm yeah -> umm yeah\n",
    "    \n",
    "    # 불용어 제거 (Text)\n",
    "    if remove_stopwords:\n",
    "        tokens = ' '.join(word for word in sentence.split() if not word in stopwords.words('english') if len(word) > 1)\n",
    "    # 불용어 미제거 (Summary)\n",
    "    else:\n",
    "        tokens = ' '.join(word for word in sentence.split() if len(word) > 1)\n",
    "    return tokens\n",
    "print('=3')"
   ]
  },
  {
   "cell_type": "code",
   "execution_count": 22,
   "id": "044e440e",
   "metadata": {},
   "outputs": [
    {
     "name": "stdout",
     "output_type": "stream",
     "text": [
      "Text 전처리 후 결과:  ['saurav kant alumnus upgrad iiit pg program machine learning artificial intelligence sr systems engineer infosys almost years work experience program upgrad degree career support helped transition data scientist tech mahindra salary hike upgrad online power learning powered lakh careers', 'kunal shah credit card bill payment platform cred gave users chance win free food swiggy one year pranav kaushik delhi techie bagged reward spending cred coins users get one cred coin per rupee bill paid used avail rewards brands like ixigo bookmyshow ubereats cult fit', 'new zealand defeated india wickets fourth odi hamilton thursday win first match five match odi series india lost international match rohit sharma captaincy consecutive victories dating back march match witnessed india getting seventh lowest total odi cricket history', 'aegon life iterm insurance plan customers enjoy tax benefits premiums paid save taxes plan provides life cover age years also customers options insure critical illnesses disability accidental death benefit rider life cover age years', 'speaking sexual harassment allegations rajkumar hirani sonam kapoor said known hirani many years true metoo movement get derailed metoo movement always believe woman case need reserve judgment added hirani accused assistant worked sanju']\n"
     ]
    }
   ],
   "source": [
    "# 전체 Text 데이터에 대한 전처리 : 10분 이상 시간이 걸릴 수 있습니다. \n",
    "clean_text = []\n",
    "\n",
    "for text in data['text']:\n",
    "    text = preprocess_sentence(text)\n",
    "    clean_text.append(text)\n",
    "# 전처리 후 출력\n",
    "print(\"Text 전처리 후 결과: \", clean_text[:5])"
   ]
  },
  {
   "cell_type": "code",
   "execution_count": 24,
   "id": "26a296fc",
   "metadata": {},
   "outputs": [
    {
     "name": "stdout",
     "output_type": "stream",
     "text": [
      "Summary 전처리 후 결과:  ['upgrad learner switches to career in ml al with salary hike', 'delhi techie wins free food from swiggy for one year on cred', 'new zealand end rohit sharma led india match winning streak', 'aegon life iterm insurance plan helps customers save tax', 'have known hirani for yrs what if metoo claims are not true sonam']\n"
     ]
    }
   ],
   "source": [
    "# 전체 Summary 데이터에 대한 전처리 : 5분 이상 시간이 걸릴 수 있습니다. \n",
    "clean_headlines = []\n",
    "\n",
    "for headlines in data['headlines']:\n",
    "    headlines = preprocess_sentence(headlines, False)\n",
    "    clean_headlines.append(headlines)\n",
    "\n",
    "print(\"Summary 전처리 후 결과: \", clean_headlines[:5])"
   ]
  },
  {
   "cell_type": "code",
   "execution_count": 40,
   "id": "cbed1687",
   "metadata": {},
   "outputs": [],
   "source": [
    "data['text'] = clean_text\n",
    "data['headlines'] = clean_headlines\n",
    "\n",
    "# 빈 값을 Null 값으로 변환\n",
    "data.replace('', np.nan, inplace=True)\n"
   ]
  },
  {
   "cell_type": "code",
   "execution_count": 30,
   "id": "8c2e505d",
   "metadata": {},
   "outputs": [
    {
     "data": {
      "text/plain": [
       "headlines     0\n",
       "text          0\n",
       "Text          0\n",
       "headlines[    0\n",
       "dtype: int64"
      ]
     },
     "execution_count": 30,
     "metadata": {},
     "output_type": "execute_result"
    }
   ],
   "source": [
    "data.isnull().sum()"
   ]
  },
  {
   "cell_type": "code",
   "execution_count": 31,
   "id": "4a0bbce8",
   "metadata": {},
   "outputs": [
    {
     "name": "stdout",
     "output_type": "stream",
     "text": [
      "전체 샘플수 : 98360\n"
     ]
    }
   ],
   "source": [
    "data.dropna(axis=0, inplace=True)\n",
    "print('전체 샘플수 :', (len(data)))"
   ]
  },
  {
   "cell_type": "code",
   "execution_count": 32,
   "id": "c954fecc",
   "metadata": {},
   "outputs": [
    {
     "name": "stdout",
     "output_type": "stream",
     "text": [
      "텍스트의 최소 길이 : 1\n",
      "텍스트의 최대 길이 : 60\n",
      "텍스트의 평균 길이 : 35.09968483123221\n",
      "요약의 최소 길이 : 1\n",
      "요약의 최대 길이 : 18\n",
      "요약의 평균 길이 : 9.553660024400163\n"
     ]
    },
    {
     "data": {
      "image/png": "[encoded data removed]",
      "text/plain": [
       "<Figure size 432x288 with 2 Axes>"
      ]
     },
     "metadata": {
      "needs_background": "light"
     },
     "output_type": "display_data"
    },
    {
     "data": {
      "image/png": "[encoded data removed]",
      "text/plain": [
       "<Figure size 432x288 with 1 Axes>"
      ]
     },
     "metadata": {
      "needs_background": "light"
     },
     "output_type": "display_data"
    },
    {
     "data": {
      "image/png": "[encoded data removed]",
      "text/plain": [
       "<Figure size 432x288 with 1 Axes>"
      ]
     },
     "metadata": {
      "needs_background": "light"
     },
     "output_type": "display_data"
    }
   ],
   "source": [
    "# 길이 분포 출력\n",
    "import matplotlib.pyplot as plt\n",
    "\n",
    "text_len = [len(s.split()) for s in data['Text']]\n",
    "headlines_len = [len(s.split()) for s in data['headlines']]\n",
    "\n",
    "print('텍스트의 최소 길이 : {}'.format(np.min(text_len)))\n",
    "print('텍스트의 최대 길이 : {}'.format(np.max(text_len)))\n",
    "print('텍스트의 평균 길이 : {}'.format(np.mean(text_len)))\n",
    "print('요약의 최소 길이 : {}'.format(np.min(headlines_len)))\n",
    "print('요약의 최대 길이 : {}'.format(np.max(headlines_len)))\n",
    "print('요약의 평균 길이 : {}'.format(np.mean(headlines_len)))\n",
    "\n",
    "plt.subplot(1,2,1)\n",
    "plt.boxplot(text_len)\n",
    "plt.title('Text')\n",
    "plt.subplot(1,2,2)\n",
    "plt.boxplot(headlines_len)\n",
    "plt.title('Headlines')\n",
    "plt.tight_layout()\n",
    "plt.show()\n",
    "\n",
    "plt.title('Text')\n",
    "plt.hist(text_len, bins = 40)\n",
    "plt.xlabel('length of samples')\n",
    "plt.ylabel('number of samples')\n",
    "plt.show()\n",
    "\n",
    "plt.title('Headlines')\n",
    "plt.hist(headlines_len, bins = 40)\n",
    "plt.xlabel('length of samples')\n",
    "plt.ylabel('number of samples')\n",
    "plt.show()"
   ]
  },
  {
   "cell_type": "code",
   "execution_count": 119,
   "id": "d79a8a49",
   "metadata": {},
   "outputs": [],
   "source": [
    "text_max_len = 40\n",
    "summary_max_len = 11\n"
   ]
  },
  {
   "cell_type": "code",
   "execution_count": 117,
   "id": "3db776b7",
   "metadata": {},
   "outputs": [],
   "source": [
    "def below_threshold_len(max_len, nested_list):\n",
    "  cnt = 0\n",
    "  for s in nested_list:\n",
    "    if(len(s.split()) <= max_len):\n",
    "        cnt = cnt + 1\n",
    "  print('전체 샘플 중 길이가 %s 이하인 샘플의 비율: %s'%(max_len, (cnt / len(nested_list))))\n"
   ]
  },
  {
   "cell_type": "code",
   "execution_count": 120,
   "id": "71059d52",
   "metadata": {},
   "outputs": [
    {
     "name": "stdout",
     "output_type": "stream",
     "text": [
      "전체 샘플 중 길이가 40 이하인 샘플의 비율: 0.924029396022891\n",
      "전체 샘플 중 길이가 11 이하인 샘플의 비율: 0.9564411873687677\n"
     ]
    }
   ],
   "source": [
    "below_threshold_len(text_max_len, data['text'])\n",
    "below_threshold_len(summary_max_len,  data['headlines'])"
   ]
  },
  {
   "cell_type": "code",
   "execution_count": 54,
   "id": "9375d712",
   "metadata": {},
   "outputs": [],
   "source": [
    "data = data.drop(['Text', 'headlines['],  axis = 1)"
   ]
  },
  {
   "cell_type": "code",
   "execution_count": 123,
   "id": "e4cc5d0b",
   "metadata": {
    "scrolled": true
   },
   "outputs": [
    {
     "name": "stdout",
     "output_type": "stream",
     "text": [
      "전체 샘플수 : 70393\n"
     ]
    }
   ],
   "source": [
    "data = data[data['text'].apply(lambda x : len(x.split()) < text_max_len) & data['headlines'].apply(lambda x : len(x.split()) < summary_max_len)]\n",
    "\n",
    "print('전체 샘플수 :', (len(data)))"
   ]
  },
  {
   "cell_type": "code",
   "execution_count": 122,
   "id": "841bdd2f",
   "metadata": {},
   "outputs": [
    {
     "data": {
      "text/html": [
       "<div>\n",
       "<style scoped>\n",
       "    .dataframe tbody tr th:only-of-type {\n",
       "        vertical-align: middle;\n",
       "    }\n",
       "\n",
       "    .dataframe tbody tr th {\n",
       "        vertical-align: top;\n",
       "    }\n",
       "\n",
       "    .dataframe thead th {\n",
       "        text-align: right;\n",
       "    }\n",
       "</style>\n",
       "<table border=\"1\" class=\"dataframe\">\n",
       "  <thead>\n",
       "    <tr style=\"text-align: right;\">\n",
       "      <th></th>\n",
       "      <th>headlines</th>\n",
       "      <th>text</th>\n",
       "      <th>decoder_input</th>\n",
       "      <th>decoder_target</th>\n",
       "    </tr>\n",
       "  </thead>\n",
       "  <tbody>\n",
       "    <tr>\n",
       "      <th>2</th>\n",
       "      <td>new zealand end rohit sharma led india match w...</td>\n",
       "      <td>new zealand defeated india wickets fourth odi ...</td>\n",
       "      <td>sostoken new zealand end rohit sharma led indi...</td>\n",
       "      <td>new zealand end rohit sharma led india match w...</td>\n",
       "    </tr>\n",
       "    <tr>\n",
       "      <th>3</th>\n",
       "      <td>aegon life iterm insurance plan helps customer...</td>\n",
       "      <td>aegon life iterm insurance plan customers enjo...</td>\n",
       "      <td>sostoken aegon life iterm insurance plan helps...</td>\n",
       "      <td>aegon life iterm insurance plan helps customer...</td>\n",
       "    </tr>\n",
       "    <tr>\n",
       "      <th>5</th>\n",
       "      <td>rahat fateh ali khan denies getting notice for...</td>\n",
       "      <td>pakistani singer rahat fateh ali khan denied r...</td>\n",
       "      <td>sostoken rahat fateh ali khan denies getting n...</td>\n",
       "      <td>rahat fateh ali khan denies getting notice for...</td>\n",
       "    </tr>\n",
       "    <tr>\n",
       "      <th>9</th>\n",
       "      <td>cong wins ramgarh bypoll in rajasthan takes to...</td>\n",
       "      <td>congress candidate shafia zubair ramgarh assem...</td>\n",
       "      <td>sostoken cong wins ramgarh bypoll in rajasthan...</td>\n",
       "      <td>cong wins ramgarh bypoll in rajasthan takes to...</td>\n",
       "    </tr>\n",
       "    <tr>\n",
       "      <th>10</th>\n",
       "      <td>up cousins fed human excreta for friendship wi...</td>\n",
       "      <td>two minor cousins uttar pradesh gorakhpur alle...</td>\n",
       "      <td>sostoken up cousins fed human excreta for frie...</td>\n",
       "      <td>up cousins fed human excreta for friendship wi...</td>\n",
       "    </tr>\n",
       "  </tbody>\n",
       "</table>\n",
       "</div>"
      ],
      "text/plain": [
       "                                            headlines  \\\n",
       "2   new zealand end rohit sharma led india match w...   \n",
       "3   aegon life iterm insurance plan helps customer...   \n",
       "5   rahat fateh ali khan denies getting notice for...   \n",
       "9   cong wins ramgarh bypoll in rajasthan takes to...   \n",
       "10  up cousins fed human excreta for friendship wi...   \n",
       "\n",
       "                                                 text  \\\n",
       "2   new zealand defeated india wickets fourth odi ...   \n",
       "3   aegon life iterm insurance plan customers enjo...   \n",
       "5   pakistani singer rahat fateh ali khan denied r...   \n",
       "9   congress candidate shafia zubair ramgarh assem...   \n",
       "10  two minor cousins uttar pradesh gorakhpur alle...   \n",
       "\n",
       "                                        decoder_input  \\\n",
       "2   sostoken new zealand end rohit sharma led indi...   \n",
       "3   sostoken aegon life iterm insurance plan helps...   \n",
       "5   sostoken rahat fateh ali khan denies getting n...   \n",
       "9   sostoken cong wins ramgarh bypoll in rajasthan...   \n",
       "10  sostoken up cousins fed human excreta for frie...   \n",
       "\n",
       "                                       decoder_target  \n",
       "2   new zealand end rohit sharma led india match w...  \n",
       "3   aegon life iterm insurance plan helps customer...  \n",
       "5   rahat fateh ali khan denies getting notice for...  \n",
       "9   cong wins ramgarh bypoll in rajasthan takes to...  \n",
       "10  up cousins fed human excreta for friendship wi...  "
      ]
     },
     "execution_count": 122,
     "metadata": {},
     "output_type": "execute_result"
    }
   ],
   "source": [
    "data.head()"
   ]
  },
  {
   "cell_type": "code",
   "execution_count": 86,
   "id": "116ab8b1",
   "metadata": {
    "scrolled": true
   },
   "outputs": [
    {
     "data": {
      "text/html": [
       "<div>\n",
       "<style scoped>\n",
       "    .dataframe tbody tr th:only-of-type {\n",
       "        vertical-align: middle;\n",
       "    }\n",
       "\n",
       "    .dataframe tbody tr th {\n",
       "        vertical-align: top;\n",
       "    }\n",
       "\n",
       "    .dataframe thead th {\n",
       "        text-align: right;\n",
       "    }\n",
       "</style>\n",
       "<table border=\"1\" class=\"dataframe\">\n",
       "  <thead>\n",
       "    <tr style=\"text-align: right;\">\n",
       "      <th></th>\n",
       "      <th>headlines</th>\n",
       "      <th>text</th>\n",
       "      <th>decoder_input</th>\n",
       "      <th>decoder_target</th>\n",
       "    </tr>\n",
       "  </thead>\n",
       "  <tbody>\n",
       "    <tr>\n",
       "      <th>0</th>\n",
       "      <td>upgrad learner switches to career in ml al wit...</td>\n",
       "      <td>saurav kant alumnus upgrad iiit pg program mac...</td>\n",
       "      <td>sostoken upgrad learner switches to career in ...</td>\n",
       "      <td>upgrad learner switches to career in ml al wit...</td>\n",
       "    </tr>\n",
       "    <tr>\n",
       "      <th>1</th>\n",
       "      <td>delhi techie wins free food from swiggy for on...</td>\n",
       "      <td>kunal shah credit card bill payment platform c...</td>\n",
       "      <td>sostoken delhi techie wins free food from swig...</td>\n",
       "      <td>delhi techie wins free food from swiggy for on...</td>\n",
       "    </tr>\n",
       "    <tr>\n",
       "      <th>2</th>\n",
       "      <td>new zealand end rohit sharma led india match w...</td>\n",
       "      <td>new zealand defeated india wickets fourth odi ...</td>\n",
       "      <td>sostoken new zealand end rohit sharma led indi...</td>\n",
       "      <td>new zealand end rohit sharma led india match w...</td>\n",
       "    </tr>\n",
       "    <tr>\n",
       "      <th>3</th>\n",
       "      <td>aegon life iterm insurance plan helps customer...</td>\n",
       "      <td>aegon life iterm insurance plan customers enjo...</td>\n",
       "      <td>sostoken aegon life iterm insurance plan helps...</td>\n",
       "      <td>aegon life iterm insurance plan helps customer...</td>\n",
       "    </tr>\n",
       "    <tr>\n",
       "      <th>5</th>\n",
       "      <td>rahat fateh ali khan denies getting notice for...</td>\n",
       "      <td>pakistani singer rahat fateh ali khan denied r...</td>\n",
       "      <td>sostoken rahat fateh ali khan denies getting n...</td>\n",
       "      <td>rahat fateh ali khan denies getting notice for...</td>\n",
       "    </tr>\n",
       "  </tbody>\n",
       "</table>\n",
       "</div>"
      ],
      "text/plain": [
       "                                           headlines  \\\n",
       "0  upgrad learner switches to career in ml al wit...   \n",
       "1  delhi techie wins free food from swiggy for on...   \n",
       "2  new zealand end rohit sharma led india match w...   \n",
       "3  aegon life iterm insurance plan helps customer...   \n",
       "5  rahat fateh ali khan denies getting notice for...   \n",
       "\n",
       "                                                text  \\\n",
       "0  saurav kant alumnus upgrad iiit pg program mac...   \n",
       "1  kunal shah credit card bill payment platform c...   \n",
       "2  new zealand defeated india wickets fourth odi ...   \n",
       "3  aegon life iterm insurance plan customers enjo...   \n",
       "5  pakistani singer rahat fateh ali khan denied r...   \n",
       "\n",
       "                                       decoder_input  \\\n",
       "0  sostoken upgrad learner switches to career in ...   \n",
       "1  sostoken delhi techie wins free food from swig...   \n",
       "2  sostoken new zealand end rohit sharma led indi...   \n",
       "3  sostoken aegon life iterm insurance plan helps...   \n",
       "5  sostoken rahat fateh ali khan denies getting n...   \n",
       "\n",
       "                                      decoder_target  \n",
       "0  upgrad learner switches to career in ml al wit...  \n",
       "1  delhi techie wins free food from swiggy for on...  \n",
       "2  new zealand end rohit sharma led india match w...  \n",
       "3  aegon life iterm insurance plan helps customer...  \n",
       "5  rahat fateh ali khan denies getting notice for...  "
      ]
     },
     "execution_count": 86,
     "metadata": {},
     "output_type": "execute_result"
    }
   ],
   "source": [
    "# 요약 데이터에는 시작 토큰과 종료 토큰을 추가한다.\n",
    "data['decoder_input'] = data['headlines'].apply(lambda x : 'sostoken '+ x)\n",
    "data['decoder_target'] = data['headlines'].apply(lambda x : x + ' eostoken')\n",
    "data.head()"
   ]
  },
  {
   "cell_type": "code",
   "execution_count": 87,
   "id": "45e0d8d6",
   "metadata": {},
   "outputs": [],
   "source": [
    "encoder_input = np.array(data['text']) # 인코더의 입력\n",
    "decoder_input = np.array(data['decoder_input']) # 디코더의 입력\n",
    "decoder_target = np.array(data['decoder_target']) # 디코더의 레이블"
   ]
  },
  {
   "cell_type": "code",
   "execution_count": 88,
   "id": "15ead5bc",
   "metadata": {},
   "outputs": [],
   "source": [
    "indices = np.arange(encoder_input.shape[0])\n",
    "np.random.shuffle(indices)"
   ]
  },
  {
   "cell_type": "code",
   "execution_count": 89,
   "id": "ba71e860",
   "metadata": {},
   "outputs": [],
   "source": [
    "encoder_input = encoder_input[indices]\n",
    "decoder_input = decoder_input[indices]\n",
    "decoder_target = decoder_target[indices]"
   ]
  },
  {
   "cell_type": "code",
   "execution_count": 90,
   "id": "5f4ec7c2",
   "metadata": {},
   "outputs": [
    {
     "name": "stdout",
     "output_type": "stream",
     "text": [
      "테스트 데이터의 수 : 19431\n"
     ]
    }
   ],
   "source": [
    "n_of_val = int(len(encoder_input)*0.2)\n",
    "print('테스트 데이터의 수 :', n_of_val)"
   ]
  },
  {
   "cell_type": "code",
   "execution_count": 91,
   "id": "3c8fc706",
   "metadata": {},
   "outputs": [
    {
     "name": "stdout",
     "output_type": "stream",
     "text": [
      "훈련 데이터의 개수 : 77725\n",
      "훈련 레이블의 개수 : 77725\n",
      "테스트 데이터의 개수 : 19431\n",
      "테스트 레이블의 개수 : 19431\n"
     ]
    }
   ],
   "source": [
    "encoder_input_train = encoder_input[:-n_of_val]\n",
    "decoder_input_train = decoder_input[:-n_of_val]\n",
    "decoder_target_train = decoder_target[:-n_of_val]\n",
    "\n",
    "encoder_input_test = encoder_input[-n_of_val:]\n",
    "decoder_input_test = decoder_input[-n_of_val:]\n",
    "decoder_target_test = decoder_target[-n_of_val:]\n",
    "\n",
    "print('훈련 데이터의 개수 :', len(encoder_input_train))\n",
    "print('훈련 레이블의 개수 :', len(decoder_input_train))\n",
    "print('테스트 데이터의 개수 :', len(encoder_input_test))\n",
    "print('테스트 레이블의 개수 :', len(decoder_input_test))"
   ]
  },
  {
   "cell_type": "code",
   "execution_count": 92,
   "id": "fde19f17",
   "metadata": {},
   "outputs": [],
   "source": [
    "src_tokenizer = Tokenizer() # 토크나이저 정의\n",
    "src_tokenizer.fit_on_texts(encoder_input_train) # 입력된 데이터로부터 단어 집합 생성"
   ]
  },
  {
   "cell_type": "code",
   "execution_count": 93,
   "id": "045aa7f8",
   "metadata": {},
   "outputs": [
    {
     "name": "stdout",
     "output_type": "stream",
     "text": [
      "단어 집합(vocabulary)의 크기 : 69340\n",
      "등장 빈도가 6번 이하인 희귀 단어의 수: 47265\n",
      "단어 집합에서 희귀 단어를 제외시킬 경우의 단어 집합의 크기 22075\n",
      "단어 집합에서 희귀 단어의 비율: 68.16411883472743\n",
      "전체 등장 빈도에서 희귀 단어 등장 빈도 비율: 3.518731088593343\n"
     ]
    }
   ],
   "source": [
    "threshold = 7\n",
    "total_cnt = len(src_tokenizer.word_index) # 단어의 수\n",
    "rare_cnt = 0 # 등장 빈도수가 threshold보다 작은 단어의 개수를 카운트\n",
    "total_freq = 0 # 훈련 데이터의 전체 단어 빈도수 총 합\n",
    "rare_freq = 0 # 등장 빈도수가 threshold보다 작은 단어의 등장 빈도수의 총 합\n",
    "\n",
    "# 단어와 빈도수의 쌍(pair)을 key와 value로 받는다.\n",
    "for key, value in src_tokenizer.word_counts.items():\n",
    "    total_freq = total_freq + value\n",
    "\n",
    "    # 단어의 등장 빈도수가 threshold보다 작으면\n",
    "    if(value < threshold):\n",
    "        rare_cnt = rare_cnt + 1\n",
    "        rare_freq = rare_freq + value\n",
    "\n",
    "print('단어 집합(vocabulary)의 크기 :', total_cnt)\n",
    "print('등장 빈도가 %s번 이하인 희귀 단어의 수: %s'%(threshold - 1, rare_cnt))\n",
    "print('단어 집합에서 희귀 단어를 제외시킬 경우의 단어 집합의 크기 %s'%(total_cnt - rare_cnt))\n",
    "print(\"단어 집합에서 희귀 단어의 비율:\", (rare_cnt / total_cnt)*100)\n",
    "print(\"전체 등장 빈도에서 희귀 단어 등장 빈도 비율:\", (rare_freq / total_freq)*100)"
   ]
  },
  {
   "cell_type": "code",
   "execution_count": 94,
   "id": "9ee951b0",
   "metadata": {},
   "outputs": [],
   "source": [
    "src_vocab = 20000\n",
    "src_tokenizer = Tokenizer(num_words=src_vocab) # 단어 집합의 크기를 8,000으로 제한\n",
    "src_tokenizer.fit_on_texts(encoder_input_train) # 단어 집합 재생성"
   ]
  },
  {
   "cell_type": "code",
   "execution_count": 95,
   "id": "9c705bd8",
   "metadata": {},
   "outputs": [
    {
     "name": "stdout",
     "output_type": "stream",
     "text": [
      "[[3566, 338, 7622, 11497, 1750, 701, 3018, 11203, 559, 54, 63, 314, 21, 297, 539, 384, 320, 4443, 2426, 374, 359, 178, 15, 4402, 2868, 1750, 559, 54, 6827, 3067, 279, 55, 313, 124], [1279, 2054, 5610, 8922, 12489, 80, 5, 9591, 339, 12, 2, 427, 2322, 2662, 23, 1452, 74, 1084, 53, 4143, 9591, 935, 182, 1452, 4144, 1208, 11, 427, 1215, 3204, 2068, 148, 935, 2609, 6078, 4144, 4579], [1045, 2135, 4171, 710, 122, 1903, 203, 2834, 925, 32, 1425, 2752, 2, 135, 1460, 944, 716, 525, 83, 23, 32, 178, 6, 5236, 1029, 203, 46, 469, 315, 88, 23, 1615, 487]]\n"
     ]
    }
   ],
   "source": [
    "# 텍스트 시퀀스를 정수 시퀀스로 변환\n",
    "encoder_input_train = src_tokenizer.texts_to_sequences(encoder_input_train) \n",
    "encoder_input_test = src_tokenizer.texts_to_sequences(encoder_input_test)\n",
    "\n",
    "# 잘 진행되었는지 샘플 출력\n",
    "print(encoder_input_train[:3])"
   ]
  },
  {
   "cell_type": "code",
   "execution_count": 96,
   "id": "196d5ada",
   "metadata": {},
   "outputs": [],
   "source": [
    "tar_tokenizer = Tokenizer()\n",
    "tar_tokenizer.fit_on_texts(decoder_input_train)"
   ]
  },
  {
   "cell_type": "code",
   "execution_count": 97,
   "id": "85ae21ec",
   "metadata": {},
   "outputs": [
    {
     "name": "stdout",
     "output_type": "stream",
     "text": [
      "단어 집합(vocabulary)의 크기 : 30072\n",
      "등장 빈도가 5번 이하인 희귀 단어의 수: 19717\n",
      "단어 집합에서 희귀 단어를 제외시킬 경우의 단어 집합의 크기 10355\n",
      "단어 집합에서 희귀 단어의 비율: 65.5659749933493\n",
      "전체 등장 빈도에서 희귀 단어 등장 빈도 비율: 4.727618598277901\n"
     ]
    }
   ],
   "source": [
    "threshold = 6\n",
    "total_cnt = len(tar_tokenizer.word_index) # 단어의 수\n",
    "rare_cnt = 0 # 등장 빈도수가 threshold보다 작은 단어의 개수를 카운트\n",
    "total_freq = 0 # 훈련 데이터의 전체 단어 빈도수 총 합\n",
    "rare_freq = 0 # 등장 빈도수가 threshold보다 작은 단어의 등장 빈도수의 총 합\n",
    "\n",
    "# 단어와 빈도수의 쌍(pair)을 key와 value로 받는다.\n",
    "for key, value in tar_tokenizer.word_counts.items():\n",
    "    total_freq = total_freq + value\n",
    "\n",
    "    # 단어의 등장 빈도수가 threshold보다 작으면\n",
    "    if(value < threshold):\n",
    "        rare_cnt = rare_cnt + 1\n",
    "        rare_freq = rare_freq + value\n",
    "\n",
    "print('단어 집합(vocabulary)의 크기 :', total_cnt)\n",
    "print('등장 빈도가 %s번 이하인 희귀 단어의 수: %s'%(threshold - 1, rare_cnt))\n",
    "print('단어 집합에서 희귀 단어를 제외시킬 경우의 단어 집합의 크기 %s'%(total_cnt - rare_cnt))\n",
    "print(\"단어 집합에서 희귀 단어의 비율:\", (rare_cnt / total_cnt)*100)\n",
    "print(\"전체 등장 빈도에서 희귀 단어 등장 빈도 비율:\", (rare_freq / total_freq)*100)"
   ]
  },
  {
   "cell_type": "code",
   "execution_count": 98,
   "id": "5c2c5564",
   "metadata": {},
   "outputs": [
    {
     "name": "stdout",
     "output_type": "stream",
     "text": [
      "input\n",
      "input  [[1, 3473, 467, 3, 202, 6139, 5, 4114, 3304, 7, 66], [1, 13, 1658, 163, 9, 1206, 752, 2930, 6814], [1, 654, 1632, 1265, 327, 17, 572, 70, 47, 1292], [1, 83, 46, 6140, 47, 11, 6141, 163, 50, 389, 2299, 415], [1, 22, 40, 7202, 3305, 1157, 7, 42, 650, 992]]\n",
      "target\n",
      "decoder  [[3473, 467, 3, 202, 6139, 5, 4114, 3304, 7, 66, 2], [13, 1658, 163, 9, 1206, 752, 2930, 6814, 2], [654, 1632, 1265, 327, 17, 572, 70, 47, 1292, 2], [83, 46, 6140, 47, 11, 6141, 163, 50, 389, 2299, 415, 2], [22, 40, 7202, 3305, 1157, 7, 42, 650, 992, 2]]\n"
     ]
    }
   ],
   "source": [
    "tar_vocab = 11000\n",
    "tar_tokenizer = Tokenizer(num_words=tar_vocab) \n",
    "tar_tokenizer.fit_on_texts(decoder_input_train)\n",
    "tar_tokenizer.fit_on_texts(decoder_target_train)\n",
    "\n",
    "# 텍스트 시퀀스를 정수 시퀀스로 변환\n",
    "decoder_input_train = tar_tokenizer.texts_to_sequences(decoder_input_train) \n",
    "decoder_target_train = tar_tokenizer.texts_to_sequences(decoder_target_train)\n",
    "decoder_input_test = tar_tokenizer.texts_to_sequences(decoder_input_test)\n",
    "decoder_target_test = tar_tokenizer.texts_to_sequences(decoder_target_test)\n",
    "\n",
    "# 잘 변환되었는지 확인\n",
    "print('input')\n",
    "print('input ',decoder_input_train[:5])\n",
    "print('target')\n",
    "print('decoder ',decoder_target_train[:5])"
   ]
  },
  {
   "cell_type": "code",
   "execution_count": 99,
   "id": "749f82b9",
   "metadata": {},
   "outputs": [
    {
     "name": "stdout",
     "output_type": "stream",
     "text": [
      "삭제할 훈련 데이터의 개수 : 0\n",
      "삭제할 테스트 데이터의 개수 : 0\n",
      "훈련 데이터의 개수 : 77725\n",
      "훈련 레이블의 개수 : 77725\n",
      "테스트 데이터의 개수 : 19431\n",
      "테스트 레이블의 개수 : 19431\n"
     ]
    }
   ],
   "source": [
    "drop_train = [index for index, sentence in enumerate(decoder_input_train) if len(sentence) == 1]\n",
    "drop_test = [index for index, sentence in enumerate(decoder_input_test) if len(sentence) == 1]\n",
    "\n",
    "print('삭제할 훈련 데이터의 개수 :', len(drop_train))\n",
    "print('삭제할 테스트 데이터의 개수 :', len(drop_test))\n",
    "\n",
    "encoder_input_train = [sentence for index, sentence in enumerate(encoder_input_train) if index not in drop_train]\n",
    "decoder_input_train = [sentence for index, sentence in enumerate(decoder_input_train) if index not in drop_train]\n",
    "decoder_target_train = [sentence for index, sentence in enumerate(decoder_target_train) if index not in drop_train]\n",
    "\n",
    "encoder_input_test = [sentence for index, sentence in enumerate(encoder_input_test) if index not in drop_test]\n",
    "decoder_input_test = [sentence for index, sentence in enumerate(decoder_input_test) if index not in drop_test]\n",
    "decoder_target_test = [sentence for index, sentence in enumerate(decoder_target_test) if index not in drop_test]\n",
    "\n",
    "print('훈련 데이터의 개수 :', len(encoder_input_train))\n",
    "print('훈련 레이블의 개수 :', len(decoder_input_train))\n",
    "print('테스트 데이터의 개수 :', len(encoder_input_test))\n",
    "print('테스트 레이블의 개수 :', len(decoder_input_test))"
   ]
  },
  {
   "cell_type": "code",
   "execution_count": 100,
   "id": "09abe354",
   "metadata": {},
   "outputs": [],
   "source": [
    "encoder_input_train = pad_sequences(encoder_input_train, maxlen=text_max_len, padding='post')\n",
    "encoder_input_test = pad_sequences(encoder_input_test, maxlen=text_max_len, padding='post')\n",
    "decoder_input_train = pad_sequences(decoder_input_train, maxlen=summary_max_len, padding='post')\n",
    "decoder_target_train = pad_sequences(decoder_target_train, maxlen=summary_max_len, padding='post')\n",
    "decoder_input_test = pad_sequences(decoder_input_test, maxlen=summary_max_len, padding='post')\n",
    "decoder_target_test = pad_sequences(decoder_target_test, maxlen=summary_max_len, padding='post')"
   ]
  },
  {
   "cell_type": "code",
   "execution_count": 101,
   "id": "596d3f15",
   "metadata": {},
   "outputs": [],
   "source": [
    "from tensorflow.keras.layers import Input, LSTM, Embedding, Dense, Concatenate, TimeDistributed\n",
    "from tensorflow.keras.models import Model\n",
    "from tensorflow.keras.callbacks import EarlyStopping, ModelCheckpoint\n",
    "\n",
    "\n",
    "# 인코더 설계 시작\n",
    "embedding_dim = 128\n",
    "hidden_size = 256\n",
    "\n",
    "# 인코더\n",
    "encoder_inputs = Input(shape=(text_max_len,))\n",
    "\n",
    "# 인코더의 임베딩 층\n",
    "enc_emb = Embedding(src_vocab, embedding_dim)(encoder_inputs)\n",
    "\n",
    "# 인코더의 LSTM 1\n",
    "# encoder_lstm1 = LSTM(hidden_size, return_sequences=True, return_state=True ,dropout = 0.4, recurrent_dropout = 0.4)\n",
    "encoder_lstm1 = LSTM(hidden_size, return_sequences=True, return_state=True ,dropout = 0.4)\n",
    "encoder_output1, state_h1, state_c1 = encoder_lstm1(enc_emb)\n",
    "\n",
    "# 인코더의 LSTM 2\n",
    "encoder_lstm2 = LSTM(hidden_size, return_sequences=True, return_state=True ,dropout = 0.4)\n",
    "encoder_output2, state_h2, state_c2 = encoder_lstm2(encoder_output1)\n",
    "\n",
    "# 인코더의 LSTM 3\n",
    "encoder_lstm3 = LSTM(hidden_size, return_sequences=True, return_state=True ,dropout = 0.4)\n",
    "encoder_output3, state_h3, state_c3 = encoder_lstm3(encoder_output2)"
   ]
  },
  {
   "cell_type": "code",
   "execution_count": 102,
   "id": "6520e25b",
   "metadata": {},
   "outputs": [],
   "source": [
    "# 디코더 설계\n",
    "decoder_inputs = Input(shape=(None,))\n",
    "\n",
    "# 디코더의 임베딩 층\n",
    "dec_emb_layer = Embedding(tar_vocab, embedding_dim)\n",
    "dec_emb = dec_emb_layer(decoder_inputs)\n",
    "\n",
    "# 디코더의 LSTM\n",
    "# decoder_lstm = LSTM(hidden_size, return_sequences=True, return_state=True, dropout=0.4, recurrent_dropout=0.2)\n",
    "decoder_lstm = LSTM(hidden_size, return_sequences=True, return_state=True, dropout=0.4)\n",
    "decoder_outputs, _, _ = decoder_lstm(dec_emb, initial_state=[state_h3, state_c3])"
   ]
  },
  {
   "cell_type": "code",
   "execution_count": 103,
   "id": "460a75a2",
   "metadata": {},
   "outputs": [
    {
     "name": "stdout",
     "output_type": "stream",
     "text": [
      "Model: \"model_4\"\n",
      "__________________________________________________________________________________________________\n",
      "Layer (type)                    Output Shape         Param #     Connected to                     \n",
      "==================================================================================================\n",
      "input_6 (InputLayer)            [(None, 50)]         0                                            \n",
      "__________________________________________________________________________________________________\n",
      "embedding_2 (Embedding)         (None, 50, 128)      2560000     input_6[0][0]                    \n",
      "__________________________________________________________________________________________________\n",
      "lstm_4 (LSTM)                   [(None, 50, 256), (N 394240      embedding_2[0][0]                \n",
      "__________________________________________________________________________________________________\n",
      "input_7 (InputLayer)            [(None, None)]       0                                            \n",
      "__________________________________________________________________________________________________\n",
      "lstm_5 (LSTM)                   [(None, 50, 256), (N 525312      lstm_4[0][0]                     \n",
      "__________________________________________________________________________________________________\n",
      "embedding_3 (Embedding)         (None, None, 128)    1408000     input_7[0][0]                    \n",
      "__________________________________________________________________________________________________\n",
      "lstm_6 (LSTM)                   [(None, 50, 256), (N 525312      lstm_5[0][0]                     \n",
      "__________________________________________________________________________________________________\n",
      "lstm_7 (LSTM)                   [(None, None, 256),  394240      embedding_3[0][0]                \n",
      "                                                                 lstm_6[0][1]                     \n",
      "                                                                 lstm_6[0][2]                     \n",
      "__________________________________________________________________________________________________\n",
      "dense_2 (Dense)                 (None, None, 11000)  2827000     lstm_7[0][0]                     \n",
      "==================================================================================================\n",
      "Total params: 8,634,104\n",
      "Trainable params: 8,634,104\n",
      "Non-trainable params: 0\n",
      "__________________________________________________________________________________________________\n"
     ]
    }
   ],
   "source": [
    "# 디코더의 출력층\n",
    "decoder_softmax_layer = Dense(tar_vocab, activation='softmax')\n",
    "decoder_softmax_outputs = decoder_softmax_layer(decoder_outputs) \n",
    "\n",
    "# 모델 정의\n",
    "model = Model([encoder_inputs, decoder_inputs], decoder_softmax_outputs)\n",
    "model.summary()"
   ]
  },
  {
   "cell_type": "code",
   "execution_count": 104,
   "id": "2a7dd623",
   "metadata": {
    "scrolled": false
   },
   "outputs": [
    {
     "name": "stdout",
     "output_type": "stream",
     "text": [
      "Model: \"model_5\"\n",
      "__________________________________________________________________________________________________\n",
      "Layer (type)                    Output Shape         Param #     Connected to                     \n",
      "==================================================================================================\n",
      "input_6 (InputLayer)            [(None, 50)]         0                                            \n",
      "__________________________________________________________________________________________________\n",
      "embedding_2 (Embedding)         (None, 50, 128)      2560000     input_6[0][0]                    \n",
      "__________________________________________________________________________________________________\n",
      "lstm_4 (LSTM)                   [(None, 50, 256), (N 394240      embedding_2[0][0]                \n",
      "__________________________________________________________________________________________________\n",
      "input_7 (InputLayer)            [(None, None)]       0                                            \n",
      "__________________________________________________________________________________________________\n",
      "lstm_5 (LSTM)                   [(None, 50, 256), (N 525312      lstm_4[0][0]                     \n",
      "__________________________________________________________________________________________________\n",
      "embedding_3 (Embedding)         (None, None, 128)    1408000     input_7[0][0]                    \n",
      "__________________________________________________________________________________________________\n",
      "lstm_6 (LSTM)                   [(None, 50, 256), (N 525312      lstm_5[0][0]                     \n",
      "__________________________________________________________________________________________________\n",
      "lstm_7 (LSTM)                   [(None, None, 256),  394240      embedding_3[0][0]                \n",
      "                                                                 lstm_6[0][1]                     \n",
      "                                                                 lstm_6[0][2]                     \n",
      "__________________________________________________________________________________________________\n",
      "attention_layer (AdditiveAttent (None, None, 256)    256         lstm_7[0][0]                     \n",
      "                                                                 lstm_6[0][0]                     \n",
      "__________________________________________________________________________________________________\n",
      "concat_layer (Concatenate)      (None, None, 512)    0           lstm_7[0][0]                     \n",
      "                                                                 attention_layer[0][0]            \n",
      "__________________________________________________________________________________________________\n",
      "dense_3 (Dense)                 (None, None, 11000)  5643000     concat_layer[0][0]               \n",
      "==================================================================================================\n",
      "Total params: 11,450,360\n",
      "Trainable params: 11,450,360\n",
      "Non-trainable params: 0\n",
      "__________________________________________________________________________________________________\n"
     ]
    }
   ],
   "source": [
    "from tensorflow.keras.layers import AdditiveAttention\n",
    "\n",
    "# 어텐션 층(어텐션 함수)\n",
    "attn_layer = AdditiveAttention(name='attention_layer')\n",
    "\n",
    "# 인코더와 디코더의 모든 time step의 hidden state를 어텐션 층에 전달하고 결과를 리턴\n",
    "attn_out = attn_layer([decoder_outputs, encoder_output3])\n",
    "\n",
    "\n",
    "# 어텐션의 결과와 디코더의 hidden state들을 연결\n",
    "decoder_concat_input = Concatenate(axis=-1, name='concat_layer')([decoder_outputs, attn_out])\n",
    "\n",
    "# 디코더의 출력층\n",
    "decoder_softmax_layer = Dense(tar_vocab, activation='softmax')\n",
    "decoder_softmax_outputs = decoder_softmax_layer(decoder_concat_input)\n",
    "\n",
    "# 모델 정의\n",
    "model = Model([encoder_inputs, decoder_inputs], decoder_softmax_outputs)\n",
    "model.summary()"
   ]
  },
  {
   "cell_type": "code",
   "execution_count": 105,
   "id": "894781df",
   "metadata": {},
   "outputs": [
    {
     "name": "stdout",
     "output_type": "stream",
     "text": [
      "Epoch 1/50\n",
      "304/304 [==============================] - 40s 116ms/step - loss: 5.2877 - val_loss: 4.8644\n",
      "Epoch 2/50\n",
      "304/304 [==============================] - 35s 115ms/step - loss: 4.7190 - val_loss: 4.5010\n",
      "Epoch 3/50\n",
      "304/304 [==============================] - 34s 113ms/step - loss: 4.4008 - val_loss: 4.2577\n",
      "Epoch 4/50\n",
      "304/304 [==============================] - 35s 114ms/step - loss: 4.1590 - val_loss: 4.0903\n",
      "Epoch 5/50\n",
      "304/304 [==============================] - 35s 114ms/step - loss: 3.9742 - val_loss: 3.9635\n",
      "Epoch 6/50\n",
      "304/304 [==============================] - 35s 114ms/step - loss: 3.8197 - val_loss: 3.8650\n",
      "Epoch 7/50\n",
      "304/304 [==============================] - 35s 114ms/step - loss: 3.6845 - val_loss: 3.7929\n",
      "Epoch 8/50\n",
      "304/304 [==============================] - 35s 114ms/step - loss: 3.5665 - val_loss: 3.7302\n",
      "Epoch 9/50\n",
      "304/304 [==============================] - 35s 114ms/step - loss: 3.4593 - val_loss: 3.6666\n",
      "Epoch 10/50\n",
      "304/304 [==============================] - 34s 113ms/step - loss: 3.3654 - val_loss: 3.6195\n",
      "Epoch 11/50\n",
      "304/304 [==============================] - 35s 114ms/step - loss: 3.2831 - val_loss: 3.5959\n",
      "Epoch 12/50\n",
      "304/304 [==============================] - 35s 114ms/step - loss: 3.2069 - val_loss: 3.5604\n",
      "Epoch 13/50\n",
      "304/304 [==============================] - 34s 113ms/step - loss: 3.1358 - val_loss: 3.5402\n",
      "Epoch 14/50\n",
      "304/304 [==============================] - 35s 114ms/step - loss: 3.0712 - val_loss: 3.5121\n",
      "Epoch 15/50\n",
      "304/304 [==============================] - 35s 114ms/step - loss: 3.0091 - val_loss: 3.4908\n",
      "Epoch 16/50\n",
      "304/304 [==============================] - 35s 114ms/step - loss: 2.9526 - val_loss: 3.4800\n",
      "Epoch 17/50\n",
      "304/304 [==============================] - 35s 114ms/step - loss: 2.8999 - val_loss: 3.4666\n",
      "Epoch 18/50\n",
      "304/304 [==============================] - 35s 114ms/step - loss: 2.8520 - val_loss: 3.4561\n",
      "Epoch 19/50\n",
      "304/304 [==============================] - 35s 114ms/step - loss: 2.8071 - val_loss: 3.4514\n",
      "Epoch 20/50\n",
      "304/304 [==============================] - 35s 114ms/step - loss: 2.7614 - val_loss: 3.4411\n",
      "Epoch 21/50\n",
      "304/304 [==============================] - 35s 114ms/step - loss: 2.7191 - val_loss: 3.4351\n",
      "Epoch 22/50\n",
      "304/304 [==============================] - 35s 114ms/step - loss: 2.6838 - val_loss: 3.4310\n",
      "Epoch 23/50\n",
      "304/304 [==============================] - 35s 114ms/step - loss: 2.6473 - val_loss: 3.4314\n",
      "Epoch 24/50\n",
      "304/304 [==============================] - 35s 114ms/step - loss: 2.6132 - val_loss: 3.4283\n",
      "Epoch 25/50\n",
      "304/304 [==============================] - 35s 114ms/step - loss: 2.5797 - val_loss: 3.4236\n",
      "Epoch 26/50\n",
      "304/304 [==============================] - 35s 114ms/step - loss: 2.5451 - val_loss: 3.4235\n",
      "Epoch 27/50\n",
      "304/304 [==============================] - 35s 114ms/step - loss: 2.5141 - val_loss: 3.4213\n",
      "Epoch 28/50\n",
      "304/304 [==============================] - 35s 114ms/step - loss: 2.4809 - val_loss: 3.4185\n",
      "Epoch 29/50\n",
      "304/304 [==============================] - 35s 114ms/step - loss: 2.4535 - val_loss: 3.4237\n",
      "Epoch 30/50\n",
      "304/304 [==============================] - 35s 114ms/step - loss: 2.4279 - val_loss: 3.4247\n",
      "Epoch 00030: early stopping\n"
     ]
    }
   ],
   "source": [
    "model.compile(optimizer='rmsprop', loss='sparse_categorical_crossentropy')\n",
    "es = EarlyStopping(monitor='val_loss', patience=2, verbose=1)\n",
    "history = model.fit(x=[encoder_input_train, decoder_input_train], y=decoder_target_train, \\\n",
    "          validation_data=([encoder_input_test, decoder_input_test], decoder_target_test), \\\n",
    "          batch_size=256, callbacks=[es], epochs=50)"
   ]
  },
  {
   "cell_type": "code",
   "execution_count": 106,
   "id": "54b7aaab",
   "metadata": {
    "scrolled": true
   },
   "outputs": [
    {
     "data": {
      "image/png": "[encoded data removed]",
      "text/plain": [
       "<Figure size 432x288 with 1 Axes>"
      ]
     },
     "metadata": {
      "needs_background": "light"
     },
     "output_type": "display_data"
    }
   ],
   "source": [
    "plt.plot(history.history['loss'], label='train')\n",
    "plt.plot(history.history['val_loss'], label='test')\n",
    "plt.legend()\n",
    "plt.show()"
   ]
  },
  {
   "cell_type": "code",
   "execution_count": 107,
   "id": "971dbf03",
   "metadata": {},
   "outputs": [],
   "source": [
    "src_index_to_word = src_tokenizer.index_word # 원문 단어 집합에서 정수 -> 단어를 얻음\n",
    "tar_word_to_index = tar_tokenizer.word_index # 요약 단어 집합에서 단어 -> 정수를 얻음\n",
    "tar_index_to_word = tar_tokenizer.index_word # 요약 단어 집합에서 정수 -> 단어를 얻음"
   ]
  },
  {
   "cell_type": "code",
   "execution_count": 108,
   "id": "1b07b51d",
   "metadata": {},
   "outputs": [],
   "source": [
    "# 인코더 설계\n",
    "encoder_model = Model(inputs=encoder_inputs, outputs=[encoder_output3, state_h3, state_c3])\n",
    "\n",
    "# 이전 시점의 상태들을 저장하는 텐서\n",
    "decoder_state_input_h = Input(shape=(hidden_size,))\n",
    "decoder_state_input_c = Input(shape=(hidden_size,))\n",
    "\n",
    "dec_emb2 = dec_emb_layer(decoder_inputs)\n",
    "\n",
    "# 문장의 다음 단어를 예측하기 위해서 초기 상태(initial_state)를 이전 시점의 상태로 사용. 이는 뒤의 함수 decode_sequence()에 구현\n",
    "# 훈련 과정에서와 달리 LSTM의 리턴하는 은닉 상태와 셀 상태인 state_h와 state_c를 버리지 않음.\n",
    "decoder_outputs2, state_h2, state_c2 = decoder_lstm(dec_emb2, initial_state=[decoder_state_input_h, decoder_state_input_c])"
   ]
  },
  {
   "cell_type": "code",
   "execution_count": 109,
   "id": "1655e1a4",
   "metadata": {},
   "outputs": [],
   "source": [
    "# 어텐션 함수\n",
    "decoder_hidden_state_input = Input(shape=(text_max_len, hidden_size))\n",
    "attn_out_inf = attn_layer([decoder_outputs2, decoder_hidden_state_input])\n",
    "decoder_inf_concat = Concatenate(axis=-1, name='concat')([decoder_outputs2, attn_out_inf])\n",
    "\n",
    "# 디코더의 출력층\n",
    "decoder_outputs2 = decoder_softmax_layer(decoder_inf_concat) \n",
    "\n",
    "# 최종 디코더 모델\n",
    "decoder_model = Model(\n",
    "    [decoder_inputs] + [decoder_hidden_state_input,decoder_state_input_h, decoder_state_input_c],\n",
    "    [decoder_outputs2] + [state_h2, state_c2])"
   ]
  },
  {
   "cell_type": "code",
   "execution_count": 110,
   "id": "3ab140fe",
   "metadata": {},
   "outputs": [],
   "source": [
    "def decode_sequence(input_seq):\n",
    "    # 입력으로부터 인코더의 상태를 얻음\n",
    "    e_out, e_h, e_c = encoder_model.predict(input_seq)\n",
    "\n",
    "     # <SOS>에 해당하는 토큰 생성\n",
    "    target_seq = np.zeros((1,1))\n",
    "    target_seq[0, 0] = tar_word_to_index['sostoken']\n",
    "\n",
    "    stop_condition = False\n",
    "    decoded_sentence = ''\n",
    "    while not stop_condition: # stop_condition이 True가 될 때까지 루프 반복\n",
    "\n",
    "        output_tokens, h, c = decoder_model.predict([target_seq] + [e_out, e_h, e_c])\n",
    "        sampled_token_index = np.argmax(output_tokens[0, -1, :])\n",
    "        sampled_token = tar_index_to_word[sampled_token_index]\n",
    "\n",
    "        if (sampled_token!='eostoken'):\n",
    "            decoded_sentence += ' '+sampled_token\n",
    "\n",
    "        #  <eos>에 도달하거나 최대 길이를 넘으면 중단.\n",
    "        if (sampled_token == 'eostoken'  or len(decoded_sentence.split()) >= (summary_max_len-1)):\n",
    "            stop_condition = True\n",
    "\n",
    "        # 길이가 1인 타겟 시퀀스를 업데이트\n",
    "        target_seq = np.zeros((1,1))\n",
    "        target_seq[0, 0] = sampled_token_index\n",
    "\n",
    "        # 상태를 업데이트 합니다.\n",
    "        e_h, e_c = h, c\n",
    "\n",
    "    return decoded_sentence"
   ]
  },
  {
   "cell_type": "code",
   "execution_count": 111,
   "id": "18be6067",
   "metadata": {},
   "outputs": [],
   "source": [
    "# 원문의 정수 시퀀스를 텍스트 시퀀스로 변환\n",
    "def seq2text(input_seq):\n",
    "    temp=''\n",
    "    for i in input_seq:\n",
    "        if (i!=0):\n",
    "            temp = temp + src_index_to_word[i]+' '\n",
    "    return temp\n",
    "\n",
    "# 요약문의 정수 시퀀스를 텍스트 시퀀스로 변환\n",
    "def seq2summary(input_seq):\n",
    "    temp=''\n",
    "    for i in input_seq:\n",
    "        if (i!=0):\n",
    "            temp = temp + src_index_to_word[i]+' '\n",
    "        elif (i == input_seq[0]):\n",
    "            continue\n",
    "        elif (i == input_seq[-1]):\n",
    "            continue\n",
    "    return temp\n"
   ]
  },
  {
   "cell_type": "code",
   "execution_count": 112,
   "id": "8659d1b8",
   "metadata": {
    "scrolled": true
   },
   "outputs": [
    {
     "name": "stdout",
     "output_type": "stream",
     "text": [
      "원문 : uber ceo dara khosrowshahi said us flying cars within years also predicted fully autonomous taxis years away cost sensors effort create maps speaking uber recent legal controversies khosrowshahi said going growth costs responsible growth \n",
      "실제 요약 : said old new chief smith different added party among asked bath \n",
      "예측 요약 :  uber ceo to build flying self driving cars in\n",
      "\n",
      "\n",
      "원문 : alibaba billionaire co founder jack stepping post executive chairman th birthday september alibaba spokesperson clarified saturday said unveil succession plan younger talent next week new york times report saying stepping retire factually wrong spokesperson added \n",
      "실제 요약 : said banerjee taliban indian sprinter year serving gambhir victim dubai \n",
      "예측 요약 :  not always to work with tech mahindra on day with sachin\n",
      "\n",
      "\n",
      "원문 : launching bjp day jan yatra madhya pradesh ujjain saturday party chief amit shah said cm shivraj singh chouhan one best chief ministers india madhya pradesh longer backward state cm chouhan efforts added meanwhile congress announced yatra hold public meetings areas visited chouhan \n",
      "실제 요약 : said hunger kid th also crore go smaller added police carrying working \n",
      "예측 요약 :  amit shah calls for shah as cm yogi\n",
      "\n",
      "\n",
      "원문 : prove consent hollywood producer harvey weinstein submitted court mails received woman accused rape one mails read love always hate feeling like call woman sent email nearly four years weinstein allegedly raped \n",
      "실제 요약 : said critical mathura august help instructed year crowd symbol \n",
      "예측 요약 :  rape victim slams me over love rape row\n",
      "\n",
      "\n",
      "원문 : plane carrying passengers crashed shortly take jose international airport cuba capital friday per reports according state run media boeing belonged de headed cuban city casualties reported cause crash yet known \n",
      "실제 요약 : said russian respectively energy mission added panic \n",
      "예측 요약 :  plane lands in air india plane crash on plane crash\n",
      "\n",
      "\n",
      "원문 : brazilian presidential candidate stabbed stomach thursday campaign rally town de far right politician made several controversial comments stabbed carried crowd supporter shoulders suspect arrested believed mentally disturbed authorities said \n",
      "실제 요약 : said kulbhushan try existing mahindra two title grand \n",
      "예측 요약 :  football player stabbed to death in us\n",
      "\n",
      "\n",
      "원문 : american producer harvey weinstein former assistant claimed sexually assaulted period time said incident took place weinstein apartment new york extremely persistent physically added talking incident \n",
      "실제 요약 : said critical charging mumbai firm company first million affect allegedly trick \n",
      "예측 요약 :  was sexually harassed by me actress on sexual harassment\n",
      "\n",
      "\n",
      "원문 : around muslim women suffered due nikah halala triple talaq uttar pradesh bareilly urged government take stronger steps end practices comes centre announced oppose nikah halala supreme court practice allows muslim man remarry ex wife marriage another man \n",
      "실제 요약 : said wanted video ko years year gujarat village ambani stockholm mario \n",
      "예측 요약 :  triple talaq bill to be muslim from triple talaq\n",
      "\n",
      "\n",
      "원문 : social activist anna hazare alleged former prime minister manmohan singh weakened anti corruption lokpal act framed pm modi weakened law presenting amendment wherein provision made relatives government officers submit details properties every year hazare said \n",
      "실제 요약 : said reportedly claimed returning centre nepalese amit clip equivalent \n",
      "예측 요약 :  former pm modi accuses govt of corruption charges\n",
      "\n",
      "\n",
      "원문 : actress radhika apte talking casting couch film industry said south make obvious want sleep also recalled incident told went meet certain producer might ask sleep \n",
      "실제 요약 : said added sent railway injured year legend government help tasks first beyond suspects \n",
      "예측 요약 :  have not need to get down to her\n",
      "\n",
      "\n",
      "원문 : schoolchildren uttar pradesh allegedly made sit without food water hours event attended state minister jaiswal students seated noon event began pm meanwhile jaiswal said know children seated hours advance concerned teachers \n",
      "실제 요약 : said long startup year eating france order well us would khan letter \n",
      "예측 요약 :  lucknow school makes clean up from up coast\n",
      "\n",
      "\n",
      "원문 : chinese automaker filed complaint country trademark regulator mercedes benz use brand green energy vehicles claims used name two door battery electric car two years china key market mercedes electric cars sold china rest world combined \n",
      "실제 요약 : said received registered couple causes included accused ring \n",
      "예측 요약 :  china files patent for faulty car that\n",
      "\n",
      "\n",
      "원문 : following incidents violence filing nominations west bengal panchayat polls state congress chief chowdhury demanded president rule state without imposing president rule one able exercise democratic right chowdhury said bjp also complained party workers attacked trying file nominations \n",
      "실제 요약 : said project board losing added sector number first eastern career start \n",
      "예측 요약 :  no one term rule in telangana in gana cm\n",
      "\n",
      "\n",
      "원문 : veteran singer asha bhosle honoured yash chopra memorial award friday bhosle fifth recipient award felicitated actress rekha ceremony previous recipients award lata mangeshkar amitabh bachchan rekha shah rukh khan \n",
      "실제 요약 : said lounge dates government surge town behalf fake \n",
      "예측 요약 :  singer srikanth to perform at award\n",
      "\n",
      "\n",
      "원문 : people leaving gloves scarves homeless people bristol england amid current wave cold weather sweeping britain items clothing come notes saying lost need please take keep warm gloves scarves left tied poles \n",
      "실제 요약 : said lakh rajasthan activist us crossed government saying indian suicide imposed \n",
      "예측 요약 :  people can get its own eatery after brexit\n",
      "\n",
      "\n",
      "원문 : least eight persons including woman killed injured state run bus going allahabad fell bridge around pm driver lost control vehicle bridge fell bank sai river district magistrate mishra said \n",
      "실제 요약 : said test united one ipl un film anniversary added would \n",
      "예측 요약 :  killed as bus falls into gorge in himachal pradesh\n",
      "\n",
      "\n",
      "원문 : aadhaar card assisted police ascertain dead woman identity rajasthan district police identified woman taking thumb impression matched aadhaar details earlier finding difficult identify woman half burnt body recovered secluded area \n",
      "실제 요약 : said league corruption festival added six bjp \n",
      "예측 요약 :  woman fined for aadhaar aadhaar number number\n",
      "\n",
      "\n",
      "원문 : teaser fantasy adventure film time released based novel name film stars oprah winfrey chris pine among others directed film scheduled release march \n",
      "실제 요약 : said professional also expanded tuesday added made left \n",
      "예측 요약 :  teaser of the king of the released\n",
      "\n",
      "\n",
      "원문 : least people killed others injured saturday three bombs exploded afghanistan capital kabul funeral senior afghan politician son protested deteriorating security situation country comes blast capital wednesday killed least people injured others \n",
      "실제 요약 : said test added evidence two iranian also plane offence security \n",
      "예측 요약 :  killed injured in blast at afghanistan\n",
      "\n",
      "\n",
      "원문 : delhi police tuesday used water cannons tear gas disperse farmers protesters broke barricades blocked nh delhi border thousands farmers kisan kranti marching towards national capital demands including farm loan waiver low electricity tariff section imposed east northeast delhi law order problems \n",
      "실제 요약 : said appointments moving best year playing writer committee film kumble delhi \n",
      "예측 요약 :  delhi farmers protest outside protest against protest\n",
      "\n",
      "\n",
      "원문 : thiruvananthapuram corporation install sanitary napkin vending machines city two weeks extension project sanitary napkin vending machines installed schools machines set public places toilet facilities like railway station bus stations shopping complexes city key points \n",
      "실제 요약 : said farm haasan ips progress year state come would added report magazine \n",
      "예측 요약 :  delhi civic body to install gps to install gps\n",
      "\n",
      "\n",
      "원문 : hearing case aadhaar authentication supreme court judge dy chandrachud recalled problems mother suffering alzheimer disease face receiving pension revealing mother documents every time receive pension said authentication serious issue find answers problems \n",
      "실제 요약 : said around dead olympics communication brazilian president power added region jerusalem \n",
      "예측 요약 :  sc to review woman plea to adultery mother\n",
      "\n",
      "\n",
      "원문 : arshad warsi talking akshay kumar replacing film jolly llb jokingly said bad move would made money would paying us much paid akshay boman irani jolly llb would still done crore added arshad starred jolly llb \n",
      "실제 요약 : said front charges chamber criticism first ban paint adding added liability \n"
     ]
    },
    {
     "name": "stdout",
     "output_type": "stream",
     "text": [
      "예측 요약 :  cannot get money from my own films films akshay\n",
      "\n",
      "\n",
      "원문 : actor robert downey jr known playing superhero character iron man took social media warn fans online asking donations various causes via private messages robert wrote never ever communicate via private chat platforms would never ask individual fans money reason \n",
      "실제 요약 : said colleague rbi accused star dutt us army \n",
      "예측 요약 :  actor slams actor for not acting actor for his film\n",
      "\n",
      "\n",
      "원문 : reacting income tax raids late tamil nadu chief minister jayalalithaa garden residence sidelined aiadmk leader ttv dhinakaran saturday said action taken order destroy family calling raids assault amma legacy blamed tamil nadu cm palaniswami panneerselvam behind searches \n",
      "실제 요약 : said privacy revealed using says year sleeping authorities men fare \n",
      "예측 요약 :  jayalalithaa is jayalalithaa mlas tn minister\n",
      "\n",
      "\n",
      "원문 : actor irrfan khan revealed contracted rare disease adding sometimes wake life shaking last fifteen days life story share story within week ten days investigations come diagnosis added \n",
      "실제 요약 : said chief advised extension force bombay least \n",
      "예측 요약 :  irrfan khan has not irrfan khan for yrs\n",
      "\n",
      "\n",
      "원문 : director baahubali ss rajamouli reacting film chosen india official entry oscars said disappointed added make film never think awards awards come happy mind said aim take stories wider audience \n",
      "실제 요약 : said pushkar independence year placed indian part police popular tree \n",
      "예측 요약 :  we are not part of india films baahubali director\n",
      "\n",
      "\n",
      "원문 : release date dhadak marks sridevi daughter janhvi kapoor debut also stars shahid kapoor half brother ishaan khatter postponed july karan johar co production earlier scheduled release july directed shashank khaitan film remake marathi film sairat highest grossing marathi movie \n",
      "실제 요약 : said ball feel also cities song tuesday structures raja \n",
      "예측 요약 :  janhvi kapoor janhvi debut with janhvi dhadak\n",
      "\n",
      "\n",
      "원문 : actress taapsee pannu said firmly believes awards really perfect judgement one talent feels nice know certain set people qualified jury believe worthy recognition added taapsee said plus awards look beautiful shelf \n",
      "실제 요약 : said similar revealed indian crore kalanick viewers also flipkart circumstances complaints \n",
      "예측 요약 :  people are the only of the time taapsee on taapsee\n",
      "\n",
      "\n",
      "원문 : indian army engineer task force constructed foot long temporary foot overbridge fallen trees local resources flood hit kerala bridge built road following heavy rains area unprecedented rainfall state claimed least lives rendered one lakh people homeless \n",
      "실제 요약 : said uttar zone complained anniversary government evade kamal added winner released report \n",
      "예측 요약 :  cyclone ockhi found in assam\n",
      "\n",
      "\n",
      "원문 : rajasthan based rural health tech startup karma healthcare raised crore funding round equity crowdfunding platform crowd existing investors ankur capital capital beyond capital another undisclosed angel investor also participated funding round company said founded startup provides technology based healthcare solutions rural areas \n",
      "실제 요약 : said chandrababu shares nuclear tweeted fun another three \n",
      "예측 요약 :  healthcare health raises mn funding led by softbank\n",
      "\n",
      "\n",
      "원문 : cbi joint director leading investigations corruption allegations special director rakesh asthana transferred probe coal scam cases internal order said friday order also says additional charge joint director ac zone heavy zone takes away much time attention \n",
      "실제 요약 : said app costs face trump possession driver accused phogat preventing \n",
      "예측 요약 :  cbi books asthana to replace asthana in vyapam scam\n",
      "\n",
      "\n",
      "원문 : germany intelligence agency warned increased china claiming citizens targeted chinese spies social media sites gather personal information government officials politicians posing consultants researchers primarily linkedin said comes task force examined fake social media profiles nine months \n",
      "실제 요약 : said investment chosen rbi also damages received \n",
      "예측 요약 :  china warns taiwan against world largest spies\n",
      "\n",
      "\n",
      "원문 : gal gadot starrer superhero film wonder woman get sequel confirmed film producers warner bros ongoing comic con san diego earlier interview gal said sequel set us notably patty jenkins directorial world highest grossing film female director \n",
      "실제 요약 : said aired muzaffarnagar singles bjp year including true inappropriate engineering \n",
      "예측 요약 :  wonder woman to star in wonder woman in wonder\n",
      "\n",
      "\n",
      "원문 : speaking criticism sex scenes hbo series game thrones actress emilia clarke said people ck pleasure part life starting get really stuff people say oh yeah porn sites went game thrones came back added \n",
      "실제 요약 : said lakh nse us bankrupt first non went mode file \n",
      "예측 요약 :  got my sex with game of thrones sunny leone\n",
      "\n",
      "\n",
      "원문 : jk rowling author harry potter series named europe highest paid celebrity forbes almost half rowling million earnings month period came co writing harry potter cursed child second position list taken footballer cristiano ronaldo earned million \n",
      "실제 요약 : said greek thief space kill virat games striker also \n",
      "예측 요약 :  jk rowling paid to be paid for cr in harry potter\n",
      "\n",
      "\n",
      "원문 : french footwear manufacturer tech unveiled smart ces track user fatigue levels via app priced feature sensors also count users steps analyse posture detect surrounding vibrations users view detailed real time information using connected app share users \n",
      "실제 요약 : said believe year fashion american reality khanna \n",
      "예측 요약 :  smart smart device that can be made in real time made\n",
      "\n",
      "\n",
      "원문 : us based study patients suggests long term high associated two four fold increased lung cancer risk men risk elevated male smokers taking day years risks observed among women \n",
      "실제 요약 : said cricketer flights year damages study investigating added kohli \n",
      "예측 요약 :  study finds how can treat people study\n",
      "\n",
      "\n",
      "원문 : delhi police informed delhi high court loudspeakers permitted noise pollution rules lay restrictions like timings level court hearing pil seeking ban use loudspeakers religious places delhi petitioner claimed loudspeakers never part religion \n",
      "실제 요약 : said fallen stopped far hanged wenger delhi comes \n",
      "예측 요약 :  delhi hc asks delhi to ban on its environment\n",
      "\n",
      "\n",
      "원문 : air india paid flying allowance june pilots section threatened stop flying dues cleared allowance comprises pilots total pay reportedly paid two months national carrier already delayed employee salaries six times last seven months \n",
      "실제 요약 : said take police acquired smith awardee also straight people leave \n",
      "예측 요약 :  air india to pay for non veg in india report\n",
      "\n",
      "\n",
      "원문 : series bullet trains upcoming mumbai ahmedabad high speed corridor equipped multi purpose rooms used breastfeeding sick passengers besides separate washrooms men women equipped triple mirrors make trains also baby changing rooms comprising baby toilet seats tables disposal \n",
      "실제 요약 : said women ganga duo titled year chief towel hosting \n",
      "예측 요약 :  railway station to get bullet train for st time\n",
      "\n",
      "\n",
      "원문 : hello network new social network launched founder kk launched feature called karma curb fake news social media claims feature tracks interactions using algorithms assign reputation every user users whether brands advertisers individual post consistently hello gain reputation \n",
      "실제 요약 : said came dancer third half year indira students senior \n",
      "예측 요약 :  launches campaign to find fake news on its name\n",
      "\n",
      "\n",
      "원문 : centre amended rules linked smoking public smoking zones hotels restaurants airports aimed fixing rules stated smoking services shall allowed smoking areas amended rule states service shall allowed smoking zones \n",
      "실제 요약 : said pakistan set added youngest opponents also cake years investigation \n",
      "예측 요약 :  govt proposes ban on of plastic bags\n",
      "\n",
      "\n",
      "원문 : billionaire chairman bharti airtel sunil bharti mittal took home salary crore financial year annual package higher previous year mittal drawn salary crore mittal appointed chairman company last year five year term \n",
      "실제 요약 : said note victim main nissan cyber pm enough added \n",
      "예측 요약 :  infosys to buy cr for crore after years\n",
      "\n",
      "\n",
      "원문 : india monday successfully test fired brahmos missile life extension technologies developed first time country become first indian missile whose life extended years test result huge savings replacement cost missiles defence minister nirmala sitharaman said \n",
      "실제 요약 : said loving rather degrees ever without surprise carbon \n"
     ]
    },
    {
     "name": "stdout",
     "output_type": "stream",
     "text": [
      "예측 요약 :  india st test to play in india in years\n",
      "\n",
      "\n",
      "원문 : kannada film murdered journalist gauri lankesh made director ramesh ramesh knew gauri lankesh personally said shocking see lie pool blood day never accept killing added focus killed gauri done clarity \n",
      "실제 요약 : said merger tuesday first spacex whether drinking completing year state startup \n",
      "예측 요약 :  have been lankesh but lankesh was not gauri lankesh\n",
      "\n",
      "\n",
      "원문 : rakhi sawant revealing found viagra medication used treat erectile dysfunction gurmeet ram rahim singh room questioned godman room rakhi said happened invited meet ram rahim secretary hotel added best qualified expose daughter honeypreet \n",
      "실제 요약 : said house company maken prison added describe parts church first player soldiers \n",
      "예측 요약 :  rakhi sawant reveals ram rahim tanushree was rakhi\n",
      "\n",
      "\n",
      "원문 : eight year old girl found pre viking era sword believed years old swimming lake sweden sword found july announcement made week fears would trigger stampede site sword kept local museum \n",
      "실제 요약 : said country time get employee country time humanity added occupied rated \n",
      "예측 요약 :  year old girl found dead in ocean lake\n",
      "\n",
      "\n",
      "원문 : severe climate disasters cost countries billion making costliest year record climate related events united nations weather agency stated report noted cyclone ockhi caused substantial casualties indian subcontinent besides affecting four crore people north atlantic hurricane season costliest ever us \n",
      "실제 요약 : said ideology country first killed us rss maturity next \n",
      "예측 요약 :  world biggest trillion is worth crore\n",
      "\n",
      "\n",
      "원문 : man suspected shot dead year old indian student sharath restaurant kansas city killed gunfire exchange city police said shot dead july attempted robbery restaurant worked software engineer telangana pursuing masters us \n",
      "실제 요약 : said court island also matter last highest added old eight six \n",
      "예측 요약 :  indian origin man shot dead by robbers in us\n",
      "\n",
      "\n"
     ]
    }
   ],
   "source": [
    "for i in range(50, 100):\n",
    "    print(\"원문 :\", seq2text(encoder_input_test[i]))\n",
    "    print(\"실제 요약 :\", seq2summary(decoder_input_test[i]))\n",
    "    print(\"예측 요약 :\", decode_sequence(encoder_input_test[i].reshape(1, text_max_len)))\n",
    "    print(\"\\n\")"
   ]
  },
  {
   "cell_type": "code",
   "execution_count": 128,
   "id": "53ba8f1a",
   "metadata": {},
   "outputs": [
    {
     "name": "stdout",
     "output_type": "stream",
     "text": [
      "테스트 데이터의 수 : 7039\n"
     ]
    }
   ],
   "source": [
    "n_of_data = int(len(data['text'])*0.1)\n",
    "print('테스트 데이터의 수 :', n_of_data)"
   ]
  },
  {
   "cell_type": "code",
   "execution_count": 125,
   "id": "01f45014",
   "metadata": {},
   "outputs": [],
   "source": [
    "data_train_text = np.array(data['text'])"
   ]
  },
  {
   "cell_type": "code",
   "execution_count": 126,
   "id": "056b666f",
   "metadata": {},
   "outputs": [],
   "source": [
    "data_train_headlines = np.array(data['headlines'])"
   ]
  },
  {
   "cell_type": "code",
   "execution_count": 129,
   "id": "e0e35683",
   "metadata": {},
   "outputs": [],
   "source": [
    "data_train_text = data_train_text[:- n_of_data * 2]\n",
    "data_test_text = data_train_text[- n_of_data * 2:- n_of_data]\n",
    "data_val_text = data_train_text[- n_of_data:]\n",
    "\n",
    "data_train_headlines = data_train_headlines[:- n_of_data]\n",
    "data_test_headlines = data_train_headlines[- n_of_data * 2: - n_of_data]\n",
    "data_val_headlines = data_train_headlines[- n_of_data:]"
   ]
  },
  {
   "cell_type": "code",
   "execution_count": 176,
   "id": "e263497c",
   "metadata": {},
   "outputs": [],
   "source": [
    "src_tokenizer = Tokenizer() # 토크나이저 정의\n",
    "src_tokenizer.fit_on_texts(data_train_headlines) # 입력된 데이터로부터 단어 집합 생성"
   ]
  },
  {
   "cell_type": "code",
   "execution_count": 177,
   "id": "c3d349eb",
   "metadata": {},
   "outputs": [
    {
     "name": "stdout",
     "output_type": "stream",
     "text": [
      "단어 집합(vocabulary)의 크기 : 25024\n",
      "등장 빈도가 6번 이하인 희귀 단어의 수: 17742\n",
      "단어 집합에서 희귀 단어를 제외시킬 경우의 단어 집합의 크기 7282\n",
      "단어 집합에서 희귀 단어의 비율: 70.89993606138107\n",
      "전체 등장 빈도에서 희귀 단어 등장 빈도 비율: 8.495305899099108\n"
     ]
    }
   ],
   "source": [
    "threshold = 7\n",
    "total_cnt = len(src_tokenizer.word_index) # 단어의 수\n",
    "rare_cnt = 0 # 등장 빈도수가 threshold보다 작은 단어의 개수를 카운트\n",
    "total_freq = 0 # 훈련 데이터의 전체 단어 빈도수 총 합\n",
    "rare_freq = 0 # 등장 빈도수가 threshold보다 작은 단어의 등장 빈도수의 총 합\n",
    "\n",
    "# 단어와 빈도수의 쌍(pair)을 key와 value로 받는다.\n",
    "for key, value in src_tokenizer.word_counts.items():\n",
    "    total_freq = total_freq + value\n",
    "\n",
    "    # 단어의 등장 빈도수가 threshold보다 작으면\n",
    "    if(value < threshold):\n",
    "        rare_cnt = rare_cnt + 1\n",
    "        rare_freq = rare_freq + value\n",
    "\n",
    "print('단어 집합(vocabulary)의 크기 :', total_cnt)\n",
    "print('등장 빈도가 %s번 이하인 희귀 단어의 수: %s'%(threshold - 1, rare_cnt))\n",
    "print('단어 집합에서 희귀 단어를 제외시킬 경우의 단어 집합의 크기 %s'%(total_cnt - rare_cnt))\n",
    "print(\"단어 집합에서 희귀 단어의 비율:\", (rare_cnt / total_cnt)*100)\n",
    "print(\"전체 등장 빈도에서 희귀 단어 등장 빈도 비율:\", (rare_freq / total_freq)*100)"
   ]
  },
  {
   "cell_type": "code",
   "execution_count": 178,
   "id": "571fcd07",
   "metadata": {},
   "outputs": [],
   "source": [
    "src_vocab = 7000\n",
    "src_tokenizer = Tokenizer(num_words=src_vocab) # 단어 집합의 크기를 7,000으로 제한\n",
    "src_tokenizer.fit_on_texts(data_train_headlines) # 단어 집합 재생성"
   ]
  },
  {
   "cell_type": "code",
   "execution_count": 179,
   "id": "c8979caa",
   "metadata": {},
   "outputs": [],
   "source": [
    "source_vectorization = layers.TextVectorization(\n",
    "    max_tokens = src_vocab,\n",
    "    output_mode = 'int',\n",
    "    output_sequence_length = 11,\n",
    ")\n",
    "\n",
    "source_vectorization.adapt(data_train_headlines)"
   ]
  },
  {
   "cell_type": "code",
   "execution_count": 180,
   "id": "8c1b59fe",
   "metadata": {},
   "outputs": [],
   "source": [
    "src_tokenizer = Tokenizer() # 토크나이저 정의\n",
    "src_tokenizer.fit_on_texts(data_test_headlines) # 입력된 데이터로부터 단어 집합 생성"
   ]
  },
  {
   "cell_type": "code",
   "execution_count": 181,
   "id": "b0ebe840",
   "metadata": {},
   "outputs": [
    {
     "name": "stdout",
     "output_type": "stream",
     "text": [
      "단어 집합(vocabulary)의 크기 : 10641\n",
      "등장 빈도가 2번 이하인 희귀 단어의 수: 6774\n",
      "단어 집합에서 희귀 단어를 제외시킬 경우의 단어 집합의 크기 3867\n",
      "단어 집합에서 희귀 단어의 비율: 63.659430504651816\n",
      "전체 등장 빈도에서 희귀 단어 등장 빈도 비율: 13.795741633025132\n"
     ]
    }
   ],
   "source": [
    "threshold = 3\n",
    "total_cnt = len(src_tokenizer.word_index) # 단어의 수\n",
    "rare_cnt = 0 # 등장 빈도수가 threshold보다 작은 단어의 개수를 카운트\n",
    "total_freq = 0 # 훈련 데이터의 전체 단어 빈도수 총 합\n",
    "rare_freq = 0 # 등장 빈도수가 threshold보다 작은 단어의 등장 빈도수의 총 합\n",
    "\n",
    "# 단어와 빈도수의 쌍(pair)을 key와 value로 받는다.\n",
    "for key, value in src_tokenizer.word_counts.items():\n",
    "    total_freq = total_freq + value\n",
    "\n",
    "    # 단어의 등장 빈도수가 threshold보다 작으면\n",
    "    if(value < threshold):\n",
    "        rare_cnt = rare_cnt + 1\n",
    "        rare_freq = rare_freq + value\n",
    "\n",
    "print('단어 집합(vocabulary)의 크기 :', total_cnt)\n",
    "print('등장 빈도가 %s번 이하인 희귀 단어의 수: %s'%(threshold - 1, rare_cnt))\n",
    "print('단어 집합에서 희귀 단어를 제외시킬 경우의 단어 집합의 크기 %s'%(total_cnt - rare_cnt))\n",
    "print(\"단어 집합에서 희귀 단어의 비율:\", (rare_cnt / total_cnt)*100)\n",
    "print(\"전체 등장 빈도에서 희귀 단어 등장 빈도 비율:\", (rare_freq / total_freq)*100)"
   ]
  },
  {
   "cell_type": "code",
   "execution_count": 182,
   "id": "eee93ac5",
   "metadata": {},
   "outputs": [],
   "source": [
    "src_vocab = 4000\n",
    "src_tokenizer = Tokenizer(num_words=src_vocab) # 단어 집합의 크기를 7,000으로 제한\n",
    "src_tokenizer.fit_on_texts(data_test_headlines) # 단어 집합 재생성"
   ]
  },
  {
   "cell_type": "code",
   "execution_count": 184,
   "id": "0457671f",
   "metadata": {},
   "outputs": [],
   "source": [
    "source_vectorization = layers.TextVectorization(\n",
    "    max_tokens = src_vocab,\n",
    "    output_mode = 'int',\n",
    "    output_sequence_length = 11,\n",
    ")\n",
    "\n",
    "source_vectorization.adapt(data_test_headlines)"
   ]
  },
  {
   "cell_type": "code",
   "execution_count": 185,
   "id": "4be448ad",
   "metadata": {},
   "outputs": [],
   "source": [
    "src_tokenizer = Tokenizer() # 토크나이저 정의\n",
    "src_tokenizer.fit_on_texts(data_val_headlines) # 입력된 데이터로부터 단어 집합 생성"
   ]
  },
  {
   "cell_type": "code",
   "execution_count": 186,
   "id": "5adf6f29",
   "metadata": {},
   "outputs": [
    {
     "name": "stdout",
     "output_type": "stream",
     "text": [
      "단어 집합(vocabulary)의 크기 : 10738\n",
      "등장 빈도가 2번 이하인 희귀 단어의 수: 6830\n",
      "단어 집합에서 희귀 단어를 제외시킬 경우의 단어 집합의 크기 3908\n",
      "단어 집합에서 희귀 단어의 비율: 63.60588563978394\n",
      "전체 등장 빈도에서 희귀 단어 등장 빈도 비율: 13.935187448066866\n"
     ]
    }
   ],
   "source": [
    "threshold = 3\n",
    "total_cnt = len(src_tokenizer.word_index) # 단어의 수\n",
    "rare_cnt = 0 # 등장 빈도수가 threshold보다 작은 단어의 개수를 카운트\n",
    "total_freq = 0 # 훈련 데이터의 전체 단어 빈도수 총 합\n",
    "rare_freq = 0 # 등장 빈도수가 threshold보다 작은 단어의 등장 빈도수의 총 합\n",
    "\n",
    "# 단어와 빈도수의 쌍(pair)을 key와 value로 받는다.\n",
    "for key, value in src_tokenizer.word_counts.items():\n",
    "    total_freq = total_freq + value\n",
    "\n",
    "    # 단어의 등장 빈도수가 threshold보다 작으면\n",
    "    if(value < threshold):\n",
    "        rare_cnt = rare_cnt + 1\n",
    "        rare_freq = rare_freq + value\n",
    "\n",
    "print('단어 집합(vocabulary)의 크기 :', total_cnt)\n",
    "print('등장 빈도가 %s번 이하인 희귀 단어의 수: %s'%(threshold - 1, rare_cnt))\n",
    "print('단어 집합에서 희귀 단어를 제외시킬 경우의 단어 집합의 크기 %s'%(total_cnt - rare_cnt))\n",
    "print(\"단어 집합에서 희귀 단어의 비율:\", (rare_cnt / total_cnt)*100)\n",
    "print(\"전체 등장 빈도에서 희귀 단어 등장 빈도 비율:\", (rare_freq / total_freq)*100)"
   ]
  },
  {
   "cell_type": "code",
   "execution_count": 187,
   "id": "0ce6ef59",
   "metadata": {},
   "outputs": [],
   "source": [
    "src_vocab = 4000\n",
    "src_tokenizer = Tokenizer(num_words=src_vocab) # 단어 집합의 크기를 7,000으로 제한\n",
    "src_tokenizer.fit_on_texts(data_val_headlines) # 단어 집합 재생성"
   ]
  },
  {
   "cell_type": "code",
   "execution_count": 188,
   "id": "3a59d1b2",
   "metadata": {},
   "outputs": [],
   "source": [
    "source_vectorization = layers.TextVectorization(\n",
    "    max_tokens = src_vocab,\n",
    "    output_mode = 'int',\n",
    "    output_sequence_length = 11,\n",
    ")\n",
    "source_vectorization.adapt(data_val_headlines)"
   ]
  },
  {
   "cell_type": "code",
   "execution_count": 189,
   "id": "decf67aa",
   "metadata": {},
   "outputs": [
    {
     "name": "stdout",
     "output_type": "stream",
     "text": [
      "단어 집합(vocabulary)의 크기 : 51304\n",
      "등장 빈도가 6번 이하인 희귀 단어의 수: 35339\n",
      "단어 집합에서 희귀 단어를 제외시킬 경우의 단어 집합의 크기 15965\n",
      "단어 집합에서 희귀 단어의 비율: 68.88156868860128\n",
      "전체 등장 빈도에서 희귀 단어 등장 빈도 비율: 5.005691818425466\n"
     ]
    }
   ],
   "source": [
    "src_tokenizer = Tokenizer() # 토크나이저 정의\n",
    "src_tokenizer.fit_on_texts(data_train_text) # 입력된 데이터로부터 단어 집합 생성\n",
    "\n",
    "threshold = 7\n",
    "total_cnt = len(src_tokenizer.word_index) # 단어의 수\n",
    "rare_cnt = 0 # 등장 빈도수가 threshold보다 작은 단어의 개수를 카운트\n",
    "total_freq = 0 # 훈련 데이터의 전체 단어 빈도수 총 합\n",
    "rare_freq = 0 # 등장 빈도수가 threshold보다 작은 단어의 등장 빈도수의 총 합\n",
    "\n",
    "# 단어와 빈도수의 쌍(pair)을 key와 value로 받는다.\n",
    "for key, value in src_tokenizer.word_counts.items():\n",
    "    total_freq = total_freq + value\n",
    "\n",
    "    # 단어의 등장 빈도수가 threshold보다 작으면\n",
    "    if(value < threshold):\n",
    "        rare_cnt = rare_cnt + 1\n",
    "        rare_freq = rare_freq + value\n",
    "\n",
    "print('단어 집합(vocabulary)의 크기 :', total_cnt)\n",
    "print('등장 빈도가 %s번 이하인 희귀 단어의 수: %s'%(threshold - 1, rare_cnt))\n",
    "print('단어 집합에서 희귀 단어를 제외시킬 경우의 단어 집합의 크기 %s'%(total_cnt - rare_cnt))\n",
    "print(\"단어 집합에서 희귀 단어의 비율:\", (rare_cnt / total_cnt)*100)\n",
    "print(\"전체 등장 빈도에서 희귀 단어 등장 빈도 비율:\", (rare_freq / total_freq)*100)"
   ]
  },
  {
   "cell_type": "code",
   "execution_count": 190,
   "id": "4bbdc9fd",
   "metadata": {},
   "outputs": [],
   "source": [
    "src_vocab = 16000\n",
    "src_tokenizer = Tokenizer(num_words=src_vocab) # 단어 집합의 크기를 7,000으로 제한\n",
    "src_tokenizer.fit_on_texts(data_train_text) # 단어 집합 재생성"
   ]
  },
  {
   "cell_type": "code",
   "execution_count": 191,
   "id": "f596a7bb",
   "metadata": {},
   "outputs": [],
   "source": [
    "source_vectorization = layers.TextVectorization(\n",
    "    max_tokens = src_vocab,\n",
    "    output_mode = 'int',\n",
    "    output_sequence_length = 40,\n",
    ")\n",
    "\n",
    "source_vectorization.adapt(data_train_text)"
   ]
  },
  {
   "cell_type": "code",
   "execution_count": 192,
   "id": "ed9b8ee7",
   "metadata": {},
   "outputs": [
    {
     "name": "stdout",
     "output_type": "stream",
     "text": [
      "단어 집합(vocabulary)의 크기 : 23097\n",
      "등장 빈도가 6번 이하인 희귀 단어의 수: 17560\n",
      "단어 집합에서 희귀 단어를 제외시킬 경우의 단어 집합의 크기 5537\n",
      "단어 집합에서 희귀 단어의 비율: 76.0271896783132\n",
      "전체 등장 빈도에서 희귀 단어 등장 빈도 비율: 14.944964535470762\n"
     ]
    }
   ],
   "source": [
    "src_tokenizer = Tokenizer() # 토크나이저 정의\n",
    "src_tokenizer.fit_on_texts(data_test_text) # 입력된 데이터로부터 단어 집합 생성\n",
    "\n",
    "threshold = 7\n",
    "total_cnt = len(src_tokenizer.word_index) # 단어의 수\n",
    "rare_cnt = 0 # 등장 빈도수가 threshold보다 작은 단어의 개수를 카운트\n",
    "total_freq = 0 # 훈련 데이터의 전체 단어 빈도수 총 합\n",
    "rare_freq = 0 # 등장 빈도수가 threshold보다 작은 단어의 등장 빈도수의 총 합\n",
    "\n",
    "# 단어와 빈도수의 쌍(pair)을 key와 value로 받는다.\n",
    "for key, value in src_tokenizer.word_counts.items():\n",
    "    total_freq = total_freq + value\n",
    "\n",
    "    # 단어의 등장 빈도수가 threshold보다 작으면\n",
    "    if(value < threshold):\n",
    "        rare_cnt = rare_cnt + 1\n",
    "        rare_freq = rare_freq + value\n",
    "\n",
    "print('단어 집합(vocabulary)의 크기 :', total_cnt)\n",
    "print('등장 빈도가 %s번 이하인 희귀 단어의 수: %s'%(threshold - 1, rare_cnt))\n",
    "print('단어 집합에서 희귀 단어를 제외시킬 경우의 단어 집합의 크기 %s'%(total_cnt - rare_cnt))\n",
    "print(\"단어 집합에서 희귀 단어의 비율:\", (rare_cnt / total_cnt)*100)\n",
    "print(\"전체 등장 빈도에서 희귀 단어 등장 빈도 비율:\", (rare_freq / total_freq)*100)"
   ]
  },
  {
   "cell_type": "code",
   "execution_count": 193,
   "id": "6eb498ee",
   "metadata": {},
   "outputs": [],
   "source": [
    "src_vocab = 5000\n",
    "src_tokenizer = Tokenizer(num_words=src_vocab) # 단어 집합의 크기를 7,000으로 제한\n",
    "src_tokenizer.fit_on_texts(data_test_text) # 단어 집합 재생성"
   ]
  },
  {
   "cell_type": "code",
   "execution_count": 194,
   "id": "d1306c55",
   "metadata": {},
   "outputs": [],
   "source": [
    "source_vectorization = layers.TextVectorization(\n",
    "    max_tokens = src_vocab,\n",
    "    output_mode = 'int',\n",
    "    output_sequence_length = 40,\n",
    ")\n",
    "\n",
    "source_vectorization.adapt(data_test_text)"
   ]
  },
  {
   "cell_type": "code",
   "execution_count": 195,
   "id": "ffcf26ab",
   "metadata": {},
   "outputs": [
    {
     "name": "stdout",
     "output_type": "stream",
     "text": [
      "단어 집합(vocabulary)의 크기 : 23597\n",
      "등장 빈도가 6번 이하인 희귀 단어의 수: 18001\n",
      "단어 집합에서 희귀 단어를 제외시킬 경우의 단어 집합의 크기 5596\n",
      "단어 집합에서 희귀 단어의 비율: 76.28512098995634\n",
      "전체 등장 빈도에서 희귀 단어 등장 빈도 비율: 15.182643200636218\n"
     ]
    }
   ],
   "source": [
    "src_tokenizer = Tokenizer() # 토크나이저 정의\n",
    "src_tokenizer.fit_on_texts(data_val_text) # 입력된 데이터로부터 단어 집합 생성\n",
    "\n",
    "threshold = 7\n",
    "total_cnt = len(src_tokenizer.word_index) # 단어의 수\n",
    "rare_cnt = 0 # 등장 빈도수가 threshold보다 작은 단어의 개수를 카운트\n",
    "total_freq = 0 # 훈련 데이터의 전체 단어 빈도수 총 합\n",
    "rare_freq = 0 # 등장 빈도수가 threshold보다 작은 단어의 등장 빈도수의 총 합\n",
    "\n",
    "# 단어와 빈도수의 쌍(pair)을 key와 value로 받는다.\n",
    "for key, value in src_tokenizer.word_counts.items():\n",
    "    total_freq = total_freq + value\n",
    "\n",
    "    # 단어의 등장 빈도수가 threshold보다 작으면\n",
    "    if(value < threshold):\n",
    "        rare_cnt = rare_cnt + 1\n",
    "        rare_freq = rare_freq + value\n",
    "\n",
    "print('단어 집합(vocabulary)의 크기 :', total_cnt)\n",
    "print('등장 빈도가 %s번 이하인 희귀 단어의 수: %s'%(threshold - 1, rare_cnt))\n",
    "print('단어 집합에서 희귀 단어를 제외시킬 경우의 단어 집합의 크기 %s'%(total_cnt - rare_cnt))\n",
    "print(\"단어 집합에서 희귀 단어의 비율:\", (rare_cnt / total_cnt)*100)\n",
    "print(\"전체 등장 빈도에서 희귀 단어 등장 빈도 비율:\", (rare_freq / total_freq)*100)"
   ]
  },
  {
   "cell_type": "code",
   "execution_count": 196,
   "id": "4478b6cd",
   "metadata": {},
   "outputs": [],
   "source": [
    "src_vocab = 5500\n",
    "src_tokenizer = Tokenizer(num_words=src_vocab) # 단어 집합의 크기를 7,000으로 제한\n",
    "src_tokenizer.fit_on_texts(data_val_text) # 단어 집합 재생성"
   ]
  },
  {
   "cell_type": "code",
   "execution_count": 197,
   "id": "2ff4b307",
   "metadata": {},
   "outputs": [],
   "source": [
    "source_vectorization = layers.TextVectorization(\n",
    "    max_tokens = src_vocab,\n",
    "    output_mode = 'int',\n",
    "    output_sequence_length = 40\n",
    ")\n",
    "\n",
    "source_vectorization.adapt(data_val_text)"
   ]
  },
  {
   "cell_type": "code",
   "execution_count": null,
   "id": "bc00293a",
   "metadata": {},
   "outputs": [],
   "source": [
    "def make_dataset(text, headlines):\n",
    "    dataset = tf.data.Dataset.from_tensor_slices((text, headlines))\n",
    "    dataset = dataset.batch(64)\n",
    "    da"
   ]
  },
  {
   "cell_type": "markdown",
   "id": "0a58559d",
   "metadata": {},
   "source": [
    "회고: 신승우:\n",
    "\n",
    "**배운 점: LSTM의 인코더와 디코더를 통해서 출력을 하는 코드를 확인함**\n",
    "\n",
    "**아쉬운 점: LSTM의 구조에 대해서 이해를 제대로 하지 못하고 있다는 점을 확인함**\n",
    "\n",
    "**느낀 점: LSTM, 어텐션을 더 공부해야겠다고 생각함**\n",
    "\n",
    "**어려웠던 점: 성능 개선을 위한 방법론을 어떻게 적용해야할 지 몰라서 어려웠음**\n",
    "\n",
    "임상운: 먼저 언어모델은 너무 어려웠다. 일단 모델을 이해하기 쉽지 않아서 모델을 개선할 엄두도 내지 못했다.  \n",
    "\n",
    "트랜스 포머로 바꾸어 진행해 볼려고 했지만 너무나 어려워서 중간에 멈출 수 밖에 없었다.\n",
    "\n",
    "다음에는 더 공부해서 제대로 구현해 보고 싶다.\n",
    "\n"
   ]
  }
 ],
 "metadata": {
  "kernelspec": {
   "display_name": "Python 3 (ipykernel)",
   "language": "python",
   "name": "python3"
  },
  "language_info": {
   "codemirror_mode": {
    "name": "ipython",
    "version": 3
   },
   "file_extension": ".py",
   "mimetype": "text/x-python",
   "name": "python",
   "nbconvert_exporter": "python",
   "pygments_lexer": "ipython3",
   "version": "3.9.7"
  }
 },
 "nbformat": 4,
 "nbformat_minor": 5
}
